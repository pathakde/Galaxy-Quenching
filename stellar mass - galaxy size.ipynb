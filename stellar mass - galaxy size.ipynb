{
 "cells": [
  {
   "cell_type": "code",
   "execution_count": 1,
   "metadata": {},
   "outputs": [],
   "source": [
    "#Set of preliminary definitions, might add to this later\n",
    "\n",
    "import matplotlib.pyplot as plt\n",
    "import matplotlib.image as mpimg\n",
    "%matplotlib inline\n",
    "\n",
    "import numpy as np\n",
    "from io import StringIO\n",
    "import io\n",
    "\n",
    "#imported requests again\n",
    "import requests\n",
    "\n",
    "baseUrl = 'http://www.tng-project.org/api/'\n",
    "headers = {\"api-key\":\"bc47cc6e1bd83ad2708bc714f126dc09\"}\n",
    "\n",
    "#defined get()\n",
    "def get(path, params=None):\n",
    "    # make HTTP GET request to path\n",
    "    headers = {\"api-key\":\"bc47cc6e1bd83ad2708bc714f126dc09\"}\n",
    "    r = requests.get(path, params=params, headers=headers)\n",
    "\n",
    "    # raise exception if response code is not HTTP SUCCESS (200)\n",
    "    r.raise_for_status()\n",
    "\n",
    "    if r.headers['content-type'] == 'application/json':\n",
    "        return r.json() # parse json responses automatically\n",
    "\n",
    "    if 'content-disposition' in r.headers:\n",
    "        filename = r.headers['content-disposition'].split(\"filename=\")[1]\n",
    "        with open(filename, 'wb') as f:\n",
    "            f.write(r.content)\n",
    "        return filename # return the filename string\n",
    "\n",
    "    return r\n"
   ]
  },
  {
   "cell_type": "code",
   "execution_count": 3,
   "metadata": {},
   "outputs": [
    {
     "data": {
      "text/plain": [
       "'?mass__gt=0.704'"
      ]
     },
     "execution_count": 3,
     "metadata": {},
     "output_type": "execute_result"
    }
   ],
   "source": [
    "# first convert log solar masses into group catalog units\n",
    "#Search for mass range\n",
    "mass_min = 10**10 / 1e10 * 0.704\n",
    "#mass_max = 10**12.1 / 1e10 * 0.704\n",
    "\n",
    "# form the search_query string by hand for once\n",
    "search_query = \"?mass__gt=\" + str(mass_min) #+ \"&mass__lt=\" + str(mass_max)\n",
    "search_query"
   ]
  },
  {
   "cell_type": "code",
   "execution_count": 4,
   "metadata": {},
   "outputs": [
    {
     "data": {
      "text/plain": [
       "143310"
      ]
     },
     "execution_count": 4,
     "metadata": {},
     "output_type": "execute_result"
    }
   ],
   "source": [
    "# form the url and make the request\n",
    "url = \"http://www.tng-project.org/api/Illustris-1/snapshots/z=2/subhalos/\" + search_query\n",
    "###filter for z=2###\n",
    "subhalos = get(url)\n",
    "subhalos['count']"
   ]
  },
  {
   "cell_type": "code",
   "execution_count": 5,
   "metadata": {
    "scrolled": false
   },
   "outputs": [
    {
     "data": {
      "text/plain": [
       "Text(0, 0.5, 'Half Mass Radius')"
      ]
     },
     "execution_count": 5,
     "metadata": {},
     "output_type": "execute_result"
    },
    {
     "data": {
      "image/png": "[encoded data removed]",
      "text/plain": [
       "<Figure size 720x504 with 1 Axes>"
      ]
     },
     "metadata": {
      "needs_background": "light"
     },
     "output_type": "display_data"
    }
   ],
   "source": [
    "ids = [ subhalos['results'][i]['id'] for i in range(100) ]\n",
    "#unsure how to plot more than 100 :(\n",
    "\n",
    "#generating the plot is taking a while\n",
    "plt.figure(figsize=(10,7)) # 10 is width, 7 is height\n",
    "\n",
    "for id in ids:\n",
    "    ###Z=2###\n",
    "    url = \"http://www.tng-project.org/api/Illustris-1/snapshots/z=2/subhalos/\" + str(id)\n",
    "    subhalo = get(url)\n",
    "    #print(id, subhalo['mass'], subhalo['halfmassrad_stars'])\n",
    "    plt.plot(subhalo['mass'], subhalo['halfmassrad_stars'], 'bo')\n",
    "\n",
    "plt.title('Subhalo Stellar Mass versus Half Mass Radii')\n",
    "plt.xlabel('Stellar Mass [log $M_\\odot$]')\n",
    "plt.ylabel('Half Mass Radius') #unsure of units or expression to put in brackets with axis title\n",
    "#I'm not sure if I did the plot right, since I'm unsure about how the units are decided on the axes"
   ]
  },
  {
   "cell_type": "code",
   "execution_count": null,
   "metadata": {
    "scrolled": false
   },
   "outputs": [],
   "source": []
  },
  {
   "cell_type": "code",
   "execution_count": null,
   "metadata": {},
   "outputs": [],
   "source": []
  }
 ],
 "metadata": {
  "kernelspec": {
   "display_name": "Python 3",
   "language": "python",
   "name": "python3"
  },
  "language_info": {
   "codemirror_mode": {
    "name": "ipython",
    "version": 3
   },
   "file_extension": ".py",
   "mimetype": "text/x-python",
   "name": "python",
   "nbconvert_exporter": "python",
   "pygments_lexer": "ipython3",
   "version": "3.7.6"
  }
 },
 "nbformat": 4,
 "nbformat_minor": 4
}
