{
 "cells": [
  {
   "cell_type": "code",
   "execution_count": 15,
   "metadata": {},
   "outputs": [],
   "source": [
    "import math\n",
    "import numpy as np\n",
    "import matplotlib.pyplot as plt\n",
    "import matplotlib.image as mpimg\n",
    "%matplotlib inline\n",
    "\n",
    "from io import StringIO\n",
    "import io\n",
    "\n",
    "from astropy.cosmology import FlatLambdaCDM\n",
    "import astropy.units as u\n",
    "from astropy.constants import G, h, k_B\n",
    "\n",
    "h = 0.6774\n",
    "cosmo = FlatLambdaCDM(H0= (h * 100) * u.km / u.s / u.Mpc, Tcmb0=2.725 * u.K, Om0=0.3)\n",
    "\n",
    "#imported requests\n",
    "import requests\n",
    "\n",
    "baseUrl = 'http://www.tng-project.org/api/'\n",
    "headers = {\"api-key\":\"bc47cc6e1bd83ad2708bc714f126dc09\"}"
   ]
  },
  {
   "cell_type": "markdown",
   "metadata": {},
   "source": [
    "Define get:"
   ]
  },
  {
   "cell_type": "code",
   "execution_count": 16,
   "metadata": {},
   "outputs": [],
   "source": [
    "#preliminary definitions\n",
    "#defined get()\n",
    "def get(path, params=None):\n",
    "    # make HTTP GET request to path\n",
    "    headers = {\"api-key\":\"bc47cc6e1bd83ad2708bc714f126dc09\"}\n",
    "    r = requests.get(path, params=params, headers=headers)\n",
    "\n",
    "    # raise exception if response code is not HTTP SUCCESS (200)\n",
    "    r.raise_for_status()\n",
    "\n",
    "    if r.headers['content-type'] == 'application/json':\n",
    "        return r.json() # parse json responses automatically\n",
    "\n",
    "    if 'content-disposition' in r.headers:\n",
    "        filename = r.headers['content-disposition'].split(\"filename=\")[1]\n",
    "        with open(filename, 'wb') as f:\n",
    "            f.write(r.content)\n",
    "        return filename # return the filename string\n",
    "\n",
    "    return r"
   ]
  },
  {
   "cell_type": "markdown",
   "metadata": {},
   "source": [
    "Define SFH_get to get histogram of SFR:"
   ]
  },
  {
   "cell_type": "code",
   "execution_count": 17,
   "metadata": {},
   "outputs": [],
   "source": [
    "#input params: redshift==numerical-val; id==int(must exist in range, pre-check); plot==\"True\" or \"False\"\n",
    "#output: (plot=False): (SFH, BE): SFH=StellarFormationHistory, BE=BinEdges\n",
    "#output: (plot=True): plt.hist (SFH, BE)\n",
    "def SFH_get(redshift, id, plot=False, binwidth=0.05): \n",
    "    \n",
    "    import h5py\n",
    "    params = {'stars':'GFM_StellarFormationTime,GFM_InitialMass'}\n",
    "#if exists, load it. If does not exist, download it\n",
    "    from pathlib import Path\n",
    "\n",
    "    if Path('cutout_'+str(id)+'.hdf5').is_file():\n",
    "        saved_filename = 'cutout_'+str(id)+'.hdf5'\n",
    "        #print (\"File exist\") #extract if exists\n",
    "        with h5py.File(saved_filename, mode='r') as f: #store as h5py file\n",
    "            starFormationTime = f['PartType4']['GFM_StellarFormationTime'][:]\n",
    "            starInitialMass = f['PartType4']['GFM_InitialMass'][:]\n",
    "    else:\n",
    "        #print (\"File not exist\") #download and extract if does not exist\n",
    "        url = \"http://www.tng-project.org/api/TNG100-1/snapshots/z=\" + str(redshift) + \"/subhalos/\" + str(id)\n",
    "        sub = get(url) # get json response of subhalo properties\n",
    "        saved_filename = get(url + \"/cutout.hdf5\",params) # get and save HDF5 cutout file\n",
    "    \n",
    "        with h5py.File(saved_filename, mode='r') as f: #store as h5py file\n",
    "            starFormationTime = f['PartType4']['GFM_StellarFormationTime'][:]\n",
    "            starInitialMass = f['PartType4']['GFM_InitialMass'][:]\n",
    "        \n",
    "    \n",
    "    z_starFormationTime = 1/starFormationTime -1\n",
    "    Gyr_starFormationTime = cosmo.age(z_starFormationTime).value\n",
    "    M_Odot_starInitialMass = starInitialMass*1e10/h \n",
    "    Gyr_redshift = cosmo.age(2.0).value\n",
    "    HistWeights = M_Odot_starInitialMass/(binwidth*1e9)\n",
    "    LookbackTime = Gyr_redshift - Gyr_starFormationTime\n",
    "    \n",
    "    if plot==False:\n",
    "        return np.histogram(LookbackTime, bins=np.arange(min(Gyr_redshift - Gyr_starFormationTime), max(Gyr_redshift - Gyr_starFormationTime) + binwidth, binwidth), weights=(HistWeights))\n",
    "    \n",
    "    else:\n",
    "        SFH, BE = np.histogram(LookbackTime, bins=np.arange(min(Gyr_redshift - Gyr_starFormationTime), max(Gyr_redshift - Gyr_starFormationTime) + binwidth, binwidth), weights=(HistWeights))\n",
    "        bincenters = [(BE[i]+BE[i+1])/2. for i in range(len(BE)-1)]\n",
    "        plt.figure(figsize=(10,7))\n",
    "        plt.step(bincenters, SFH, color = 'b')\n",
    "        plt.title('Histogram for Lookback Times for id = ' + str(id))\n",
    "        plt.xlim(0, Gyr_redshift)\n",
    "        plt.ylim(0, )\n",
    "        plt.xlabel(\"Lookback Time (Gyr)\")\n",
    "        plt.ylabel(\"$M_\\odot$/yr\")\n",
    "        plt.show()\n",
    "        return plt.show()"
   ]
  },
  {
   "cell_type": "markdown",
   "metadata": {},
   "source": [
    "Finding ids at given redshift and mass-range:"
   ]
  },
  {
   "cell_type": "code",
   "execution_count": 18,
   "metadata": {},
   "outputs": [],
   "source": [
    "#set redshift\n",
    "redshift = 2.0\n",
    "#select for mass range\n",
    "mass_min = 10**10.5 / 1e10 * h\n",
    "#mass_max = 10**12 / 1e10 * h\n",
    "\n",
    "# form the search_query string by hand for once\n",
    "search_query = \"?mass_stars__gt=\" + str(mass_min) #+ \"&mass_stars__lt=\" + str(mass_max)\n",
    "\n",
    "url = \"http://www.tng-project.org/api/TNG100-1/snapshots/z=\" + str(redshift) + \"/subhalos/\" + search_query\n",
    "\n",
    "subhalos = get(url, {'limit':5000})\n",
    "#subhalos['count']==1045\n",
    "ids = [ subhalos['results'][i]['id'] for i in range(subhalos['count'])]"
   ]
  },
  {
   "cell_type": "markdown",
   "metadata": {
    "scrolled": true
   },
   "source": [
    "Define Mean_SFT to get mean SFT:"
   ]
  },
  {
   "cell_type": "code",
   "execution_count": 19,
   "metadata": {},
   "outputs": [],
   "source": [
    "#input params: z=redshift (num val); subhalo_id==int(must exist in range, pre-check)\n",
    "#dependent on SFH_get(plot=False) output\n",
    "#output: MeanStellarAge, in units of Gyr\n",
    "def Mean_SFT(z, subhalo_id):\n",
    "    SFH, BE = SFH_get(redshift = z, id = subhalo_id)\n",
    "    MeanStellarAge = np.sum([(SFH[i]*1e9)*BE[i] for i in range(len(SFH))])/sum(SFH*1e9)\n",
    "    \n",
    "    return MeanStellarAge\n",
    "#opt return: print(\"Mean Stellar Age for subhalo with id=\" +str(subhalo_id)+ \" at redshift \" + str(z) + \" is \" + str(MeanStellarAge) + \" Gyr\")"
   ]
  },
  {
   "cell_type": "markdown",
   "metadata": {},
   "source": [
    "Define TimeAvg_SFR to get average SFR over a given timescale:"
   ]
  },
  {
   "cell_type": "code",
   "execution_count": 23,
   "metadata": {},
   "outputs": [],
   "source": [
    "#input params: z=redshift(num val); subhalo_id==int(must exist in range, pre-check); timescale=num val in range(LT) in units of Gyr\n",
    "#dependent on get_SFH(plot=False) output\n",
    "#output: TimeAvg_SFR in units of $M_\\odot$/yr\n",
    "def TimeAvg_SFR(z, subhalo_id, timescale):\n",
    "    SFH, BE = SFH_get(redshift = z, id = subhalo_id, plot=False)\n",
    "    if timescale<BE[0]:\n",
    "        TimeAvg_SFR = SFH[0]\n",
    "    else:\n",
    "        timescale_indices = np.where(BE<=timescale)\n",
    "        TimeAvg_SFR = np.sum([SFH[i] for i in timescale_indices])/len(timescale_indices[0])\n",
    "        #NOTE: floored bin value, change to SFH[i+1] for ceiling\n",
    "    return TimeAvg_SFR"
   ]
  },
  {
   "cell_type": "markdown",
   "metadata": {},
   "source": [
    "Define Median_SFT to get median age of galaxy:"
   ]
  },
  {
   "cell_type": "code",
   "execution_count": 21,
   "metadata": {},
   "outputs": [],
   "source": [
    "#input params: z=redshift (num val); subhalo_id==int(must exist in range, pre-check)\n",
    "#dependent on SFH_get(plot=False) output\n",
    "#output: MedianStellarAge = a Bin Edge in units of Gyr\n",
    "def Median_SFT(z, subhalo_id):\n",
    "\n",
    "    SFH, BE = SFH_get(redshift = z, id = subhalo_id)\n",
    "    total = [(SFH[i]*1e9)*BE[i] for i in range(len(SFH))] #arr\n",
    "    tot_sum = (0.5 * np.sum(total))\n",
    "    cumsum_median = np.cumsum(total) < tot_sum #filter_arr\n",
    "    newarr = np.cumsum(total)[cumsum_median]\n",
    "    \n",
    "    return BE[len(newarr)-1] #units: Gyr in Lookback time"
   ]
  },
  {
   "cell_type": "code",
   "execution_count": null,
   "metadata": {},
   "outputs": [],
   "source": []
  },
  {
   "cell_type": "markdown",
   "metadata": {},
   "source": [
    "Get mean SFT, time avg SFR, current SFR and median SFT data:"
   ]
  },
  {
   "cell_type": "code",
   "execution_count": 8,
   "metadata": {},
   "outputs": [],
   "source": [
    "#create and populate array for mean SFT\n",
    "means = np.zeros(subhalos['count'])\n",
    "\n",
    "for i, id in enumerate(ids[:subhalos['count']]): #need to know # of elements to implement #append is slower\n",
    "    means[i] = Mean_SFT(z=2.0, subhalo_id=id)"
   ]
  },
  {
   "cell_type": "code",
   "execution_count": 12,
   "metadata": {},
   "outputs": [],
   "source": [
    "#save file for mean SFT\n",
    "np.savetxt('z=2_Mean_SFT', means)"
   ]
  },
  {
   "cell_type": "code",
   "execution_count": null,
   "metadata": {},
   "outputs": [],
   "source": [
    "#create and populate arrays for time avg SFR, current SFR, median SFT\n",
    "time_averages = np.zeros(subhalos['count'])\n",
    "current_SFRs = np.zeros(subhalos['count'])\n",
    "medians = np.zeros(subhalos['count'])\n",
    "\n",
    "for i, id in enumerate(ids[:subhalos['count']]): #need to know # of elements to implement #append is slower\n",
    "    time_averages[i] = TimeAvg_SFR(z=2.0, subhalo_id=id, timescale=1.0)\n",
    "    current_SFRs[i] = TimeAvg_SFR(z=2.0, subhalo_id=id, timescale=0.0)\n",
    "    medians[i] = Median_SFT(z=2.0, subhalo_id=id)"
   ]
  },
  {
   "cell_type": "code",
   "execution_count": null,
   "metadata": {},
   "outputs": [],
   "source": [
    "#save remaining files for time avg SFR, current SFR, median SFT\n",
    "np.savetxt('z=2_TimeAvg_SFR_1Gyr', time_averages)\n",
    "np.savetxt('z=2_Current_SFR', current_SFRs)\n",
    "np.savetxt('z=2_Median_SFT', medians)"
   ]
  },
  {
   "cell_type": "code",
   "execution_count": null,
   "metadata": {},
   "outputs": [],
   "source": [
    "#call for Mean_SFT, TimeAvg_SFR_1Gyr, Current_SFR, Median_SFT\n",
    "MeanSFT = np.loadtxt('z=2_Mean_SFT', dtype=float)\n",
    "GyrAvgSFR = np.loadtxt('z=2_TimeAvg_SFR_1Gyr', dtype=float)\n",
    "CurrentSFR = np.loadtxt('z=2_Current_SFR', dtype=float)\n",
    "MedianSFT = np.loadtxt('z=2_Median_SFT', dtype=float)"
   ]
  },
  {
   "cell_type": "code",
   "execution_count": null,
   "metadata": {},
   "outputs": [],
   "source": [
    "#plot for Current SFR vs Median Stellar Ages\n",
    "plt.figure(figsize=(10,7)) # 10 is width, 7 is height\n",
    "plt.plot(CurrentSFR, MedianSFT, 'bo', ms=5, alpha=0.5)\n",
    "plt.title('Current SFR vs Median Stellar Ages')\n",
    "plt.xlabel('Current SFR ($M_\\odot$/yr)')\n",
    "plt.ylabel('Median Stellar Age (Gyr)')"
   ]
  },
  {
   "cell_type": "code",
   "execution_count": null,
   "metadata": {},
   "outputs": [],
   "source": [
    "#plot for Current SFR vs Time-Averaged SFR over 1 Gyr of Lookback Time\n",
    "plt.figure(figsize=(10,7)) # 10 is width, 7 is height\n",
    "plt.plot(CurrentSFR, GyrAvgSFR, 'bo', ms=5, alpha=0.5)\n",
    "plt.title('Current SFR vs Time-Averaged SFR over 1 Gyr of Lookback Time')\n",
    "plt.xlabel('Current SFR ($M_\\odot$/yr)')\n",
    "plt.ylabel('Time-Averaged SFR over 1 Gyr of Lookback Time ($M_\\odot$/yr)')"
   ]
  },
  {
   "cell_type": "code",
   "execution_count": null,
   "metadata": {},
   "outputs": [],
   "source": [
    "#plot for Current SFR vs Mean Stellar Ages\n",
    "plt.figure(figsize=(10,7)) # 10 is width, 7 is height\n",
    "plt.plot(CurrentSFR, MeanSFT, 'bo', ms=5, alpha=0.5)\n",
    "plt.title('Current SFR vs Mean Stellar Ages')\n",
    "plt.xlabel('Current SFR ($M_\\odot$/yr)')\n",
    "plt.ylabel('Mean Stellar Age (Gyr)')"
   ]
  },
  {
   "cell_type": "code",
   "execution_count": null,
   "metadata": {},
   "outputs": [],
   "source": [
    "#plot for Mean Stellar Ages vs Time-Averaged SFR over 1 Gyr of Lookback Time\n",
    "plt.figure(figsize=(10,7)) # 10 is width, 7 is height\n",
    "plt.plot(MeanSFT, GyrAvgSFR, 'bo', ms=5, alpha=0.5)\n",
    "plt.title('MeanSFT vs Time-Averaged SFR over 1 Gyr of Lookback Time')\n",
    "plt.xlabel('Current SFR ($M_\\odot$/yr)')\n",
    "plt.ylabel('Time-Averaged SFR over 1 Gyr of Lookback Time ($M_\\odot$/yr)')"
   ]
  },
  {
   "cell_type": "code",
   "execution_count": null,
   "metadata": {},
   "outputs": [],
   "source": []
  }
 ],
 "metadata": {
  "kernelspec": {
   "display_name": "Python 3",
   "language": "python",
   "name": "python3"
  },
  "language_info": {
   "codemirror_mode": {
    "name": "ipython",
    "version": 3
   },
   "file_extension": ".py",
   "mimetype": "text/x-python",
   "name": "python",
   "nbconvert_exporter": "python",
   "pygments_lexer": "ipython3",
   "version": "3.7.6"
  }
 },
 "nbformat": 4,
 "nbformat_minor": 4
}
