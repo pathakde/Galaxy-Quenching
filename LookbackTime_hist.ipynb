{
 "cells": [
  {
   "cell_type": "code",
   "execution_count": 1,
   "metadata": {},
   "outputs": [],
   "source": [
    "#preliminary definitions\n",
    "\n",
    "import math\n",
    "import numpy as np\n",
    "import matplotlib.pyplot as plt\n",
    "import matplotlib.image as mpimg\n",
    "%matplotlib inline\n",
    "\n",
    "from io import StringIO\n",
    "import io\n",
    "\n",
    "from astropy.cosmology import FlatLambdaCDM\n",
    "import astropy.units as u\n",
    "from astropy.constants import G, h, k_B\n",
    "\n",
    "\n",
    "#imported requests\n",
    "import requests\n",
    "\n",
    "baseUrl = 'http://www.tng-project.org/api/'\n",
    "headers = {\"api-key\":\"bc47cc6e1bd83ad2708bc714f126dc09\"}\n",
    "\n",
    "#defined get()\n",
    "def get(path, params=None):\n",
    "    # make HTTP GET request to path\n",
    "    headers = {\"api-key\":\"bc47cc6e1bd83ad2708bc714f126dc09\"}\n",
    "    r = requests.get(path, params=params, headers=headers)\n",
    "\n",
    "    # raise exception if response code is not HTTP SUCCESS (200)\n",
    "    r.raise_for_status()\n",
    "\n",
    "    if r.headers['content-type'] == 'application/json':\n",
    "        return r.json() # parse json responses automatically\n",
    "\n",
    "    if 'content-disposition' in r.headers:\n",
    "        filename = r.headers['content-disposition'].split(\"filename=\")[1]\n",
    "        with open(filename, 'wb') as f:\n",
    "            f.write(r.content)\n",
    "        return filename # return the filename string\n",
    "\n",
    "    return r\n"
   ]
  },
  {
   "cell_type": "code",
   "execution_count": 2,
   "metadata": {},
   "outputs": [],
   "source": [
    "#definition to plot histogram for lookback times.\n",
    "#input parameters: redshift, subhalo id\n",
    "\n",
    "def LookbackTime_hist(redshift, id):\n",
    "    h = 0.6774\n",
    "    cosmo = FlatLambdaCDM(H0= (h * 100) * u.km / u.s / u.Mpc, Tcmb0=2.725 * u.K, Om0=0.3)\n",
    "    \n",
    "    import h5py\n",
    "    params = {'stars':'GFM_StellarFormationTime,GFM_InitialMass'}\n",
    "\n",
    "    url = \"http://www.tng-project.org/api/TNG100-1/snapshots/z=\" + str(redshift) + \"/subhalos/\" + str(id)\n",
    "    sub = get(url) # get json response of subhalo properties\n",
    "    saved_filename = get(url + \"/cutout.hdf5\",params) # get and save HDF5 cutout file\n",
    "    \n",
    "    with h5py.File(saved_filename) as f: #store as h5py file\n",
    "        starFormationTime = f['PartType4']['GFM_StellarFormationTime'][:]\n",
    "        starInitialMass = f['PartType4']['GFM_InitialMass'][:]\n",
    "        mode = 'r'\n",
    "    \n",
    "    z_starFormationTime = 1/starFormationTime -1\n",
    "    Gyr_starFormationTime = cosmo.age(z_starFormationTime).value\n",
    "    M_Odot_starInitialMass = starInitialMass * h\n",
    "    Gyr_redshift = cosmo.age(2.0).value\n",
    "    \n",
    "    binwidth = (min(Gyr_starFormationTime) + max(Gyr_starFormationTime))/150\n",
    "    \n",
    "    plt.figure(figsize=(10,7))\n",
    "    plt.title('Histogram for Lookback Times')\n",
    "    plt.xlim(0, Gyr_redshift)\n",
    "    plt.hist((Gyr_redshift - Gyr_starFormationTime), bins=np.arange(min(Gyr_redshift - Gyr_starFormationTime), max(Gyr_redshift - Gyr_starFormationTime) + binwidth, binwidth), weights=(M_Odot_starInitialMass/(binwidth/10**9)), histtype=\"step\")\n",
    "    plt.xlabel(\"Lookback Time (Gyr)\")\n",
    "    plt.ylabel(\"$M_\\odot$/yr\")\n",
    "\n",
    "    return plt.hist\n",
    "\n"
   ]
  },
  {
   "cell_type": "code",
   "execution_count": 3,
   "metadata": {},
   "outputs": [
    {
     "name": "stderr",
     "output_type": "stream",
     "text": [
      "C:\\Users\\debos\\anaconda3\\lib\\site-packages\\ipykernel_launcher.py:15: H5pyDeprecationWarning: The default file mode will change to 'r' (read-only) in h5py 3.0. To suppress this warning, pass the mode you need to h5py.File(), or set the global default h5.get_config().default_file_mode, or set the environment variable H5PY_DEFAULT_READONLY=1. Available modes are: 'r', 'r+', 'w', 'w-'/'x', 'a'. See the docs for details.\n",
      "  from ipykernel import kernelapp as app\n",
      "C:\\Users\\debos\\anaconda3\\lib\\site-packages\\astropy\\cosmology\\core.py:1170: IntegrationWarning: The occurrence of roundoff error is detected, which prevents \n",
      "  the requested tolerance from being achieved.  The error may be \n",
      "  underestimated.\n",
      "  red, np.inf)[0]\n",
      "C:\\Users\\debos\\anaconda3\\lib\\site-packages\\numpy\\lib\\function_base.py:2167: RuntimeWarning: invalid value encountered in ? (vectorized)\n",
      "  outputs = ufunc(*inputs)\n"
     ]
    },
    {
     "data": {
      "text/plain": [
       "<function matplotlib.pyplot.hist(x, bins=None, range=None, density=None, weights=None, cumulative=False, bottom=None, histtype='bar', align='mid', orientation='vertical', rwidth=None, log=False, color=None, label=None, stacked=False, normed=None, *, data=None, **kwargs)>"
      ]
     },
     "execution_count": 3,
     "metadata": {},
     "output_type": "execute_result"
    },
    {
     "data": {
      "image/png": "[encoded data removed]",
      "text/plain": [
       "<Figure size 720x504 with 1 Axes>"
      ]
     },
     "metadata": {
      "needs_background": "light"
     },
     "output_type": "display_data"
    }
   ],
   "source": [
    "LookbackTime_hist(redshift = 2.0, id = 1)"
   ]
  },
  {
   "cell_type": "code",
   "execution_count": null,
   "metadata": {},
   "outputs": [],
   "source": []
  }
 ],
 "metadata": {
  "kernelspec": {
   "display_name": "Python 3",
   "language": "python",
   "name": "python3"
  },
  "language_info": {
   "codemirror_mode": {
    "name": "ipython",
    "version": 3
   },
   "file_extension": ".py",
   "mimetype": "text/x-python",
   "name": "python",
   "nbconvert_exporter": "python",
   "pygments_lexer": "ipython3",
   "version": "3.7.6"
  }
 },
 "nbformat": 4,
 "nbformat_minor": 4
}
