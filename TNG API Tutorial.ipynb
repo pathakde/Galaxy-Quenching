{
 "cells": [
  {
   "cell_type": "code",
   "execution_count": 3,
   "metadata": {},
   "outputs": [],
   "source": [
    "#1\n",
    "#First, we start up our interface of choice and define a helper \n",
    "#function, whose purpose is to make a HTTP GET request to a \n",
    "#specified URL (\"endpoint\"), and verify that the response is \n",
    "#successful. If the response type is JSON, then automatically \n",
    "#decode it into a dict-like object.\n",
    "\n",
    "import requests\n",
    "\n",
    "baseUrl = 'http://www.tng-project.org/api/'\n",
    "headers = {\"api-key\":\"bc47cc6e1bd83ad2708bc714f126dc09\"}\n",
    "\n",
    "def get(path, params=None):\n",
    "    # make HTTP GET request to path\n",
    "    r = requests.get(path, params=params, headers=headers)\n",
    "\n",
    "    # raise exception if response code is not HTTP SUCCESS (200)\n",
    "    r.raise_for_status()\n",
    "\n",
    "    if r.headers['content-type'] == 'application/json':\n",
    "        return r.json() # parse json responses automatically\n",
    "    return r"
   ]
  },
  {
   "cell_type": "code",
   "execution_count": 18,
   "metadata": {},
   "outputs": [],
   "source": [
    "#Issue a request to the API root.\n",
    "r = get(baseUrl) #>>>>"
   ]
  },
  {
   "cell_type": "code",
   "execution_count": 21,
   "metadata": {},
   "outputs": [
    {
     "data": {
      "text/plain": [
       "['simulations']"
      ]
     },
     "execution_count": 21,
     "metadata": {},
     "output_type": "execute_result"
    }
   ],
   "source": [
    "#The response is a dictionary object with one key, \"simulations\", \n",
    "#which is a list of N (currently 18 in this example) available runs:\n",
    "r.keys() #>>>>\n",
    "['simulations']\n",
    "\n"
   ]
  },
  {
   "cell_type": "code",
   "execution_count": 22,
   "metadata": {},
   "outputs": [
    {
     "data": {
      "text/plain": [
       "dict_keys(['simulations'])"
      ]
     },
     "execution_count": 22,
     "metadata": {},
     "output_type": "execute_result"
    }
   ],
   "source": [
    "r.keys()"
   ]
  },
  {
   "cell_type": "code",
   "execution_count": 23,
   "metadata": {},
   "outputs": [
    {
     "data": {
      "text/plain": [
       "45"
      ]
     },
     "execution_count": 23,
     "metadata": {},
     "output_type": "execute_result"
    }
   ],
   "source": [
    "#5\n",
    "len(r['simulations']) #>>>>\n",
    "#18"
   ]
  },
  {
   "cell_type": "code",
   "execution_count": 26,
   "metadata": {},
   "outputs": [
    {
     "data": {
      "text/plain": [
       "{'name': 'Illustris-1',\n",
       " 'num_snapshots': 134,\n",
       " 'url': 'http://www.tng-project.org/api/Illustris-1/'}"
      ]
     },
     "execution_count": 26,
     "metadata": {},
     "output_type": "execute_result"
    }
   ],
   "source": [
    "r['simulations'][0]\n",
    "#Print out all fields of the first"
   ]
  },
  {
   "cell_type": "code",
   "execution_count": 27,
   "metadata": {
    "scrolled": true
   },
   "outputs": [
    {
     "data": {
      "text/plain": [
       "['Illustris-1',\n",
       " 'Illustris-1-Dark',\n",
       " 'Illustris-2',\n",
       " 'Illustris-2-Dark',\n",
       " 'Illustris-3',\n",
       " 'Illustris-3-Dark',\n",
       " 'TNG100-1',\n",
       " 'TNG100-1-Dark',\n",
       " 'TNG100-2',\n",
       " 'TNG100-2-Dark',\n",
       " 'TNG100-3',\n",
       " 'TNG100-3-Dark',\n",
       " 'TNG300-3',\n",
       " 'TNG300-2-Dark',\n",
       " 'TNG300-2',\n",
       " 'TNG300-1-Dark',\n",
       " 'TNG300-1',\n",
       " 'TNG300-3-Dark',\n",
       " 'Illustris-1-Subbox0',\n",
       " 'Illustris-1-Subbox1',\n",
       " 'Illustris-1-Subbox2',\n",
       " 'Illustris-1-Subbox3',\n",
       " 'Illustris-2-Subbox0',\n",
       " 'Illustris-2-Subbox1',\n",
       " 'Illustris-2-Subbox2',\n",
       " 'Illustris-2-Subbox3',\n",
       " 'Illustris-3-Subbox0',\n",
       " 'Illustris-3-Subbox1',\n",
       " 'Illustris-3-Subbox2',\n",
       " 'Illustris-3-Subbox3',\n",
       " 'TNG100-1-Subbox0',\n",
       " 'TNG100-1-Subbox1',\n",
       " 'TNG100-2-Subbox0',\n",
       " 'TNG100-2-Subbox1',\n",
       " 'TNG100-3-Subbox0',\n",
       " 'TNG100-3-Subbox1',\n",
       " 'TNG300-3-Subbox1',\n",
       " 'TNG300-3-Subbox2',\n",
       " 'TNG300-3-Subbox0',\n",
       " 'TNG300-2-Subbox1',\n",
       " 'TNG300-2-Subbox2',\n",
       " 'TNG300-2-Subbox0',\n",
       " 'TNG300-1-Subbox1',\n",
       " 'TNG300-1-Subbox2',\n",
       " 'TNG300-1-Subbox0']"
      ]
     },
     "execution_count": 27,
     "metadata": {},
     "output_type": "execute_result"
    }
   ],
   "source": [
    "names = [sim['name'] for sim in r['simulations']]\n",
    "names\n",
    "#Print out names of all sims"
   ]
  },
  {
   "cell_type": "code",
   "execution_count": 28,
   "metadata": {},
   "outputs": [
    {
     "data": {
      "text/plain": [
       "4"
      ]
     },
     "execution_count": 28,
     "metadata": {},
     "output_type": "execute_result"
    }
   ],
   "source": [
    "#look at Illustris-3 by determining which entry in r it is, \n",
    "#then requesting the url field of that entry.\n",
    "i = names.index('Illustris-3')\n",
    "i"
   ]
  },
  {
   "cell_type": "code",
   "execution_count": 29,
   "metadata": {},
   "outputs": [
    {
     "data": {
      "text/plain": [
       "dict_keys(['name', 'description', 'name_alt', 'boxsize', 'z_start', 'z_final', 'cosmology', 'omega_0', 'omega_L', 'omega_B', 'hubble', 'physics_model', 'has_cooling', 'has_starformation', 'has_winds', 'has_blackholes', 'mass_gas', 'mass_dm', 'softening_dm_comoving', 'softening_stars_comoving', 'softening_blackholes_comoving', 'softening_gas_comoving', 'softening_dm_max_phys', 'softening_stars_max_phys', 'softening_blackholes_max_phys', 'softening_gas_max_phys', 'softening_gas_factor', 'softening_gas_comoving_min', 'num_dm', 'num_tr_mc', 'num_tr_vel', 'longids', 'is_uniform', 'is_zoom', 'is_subbox', 'num_files_snapshot', 'num_files_groupcat', 'num_files_rockstar', 'num_files_lhalotree', 'num_files_sublink', 'num_files_ctrees', 'filesize_lhalotree', 'filesize_sublink', 'filesize_ctrees', 'filesize_ics', 'filesize_simulation', 'has_fof', 'has_subfind', 'has_rockstar', 'has_lhalotree', 'has_sublink', 'has_ctrees', 'permission_required', 'num_snapshots', 'url', 'parent_simulation', 'child_simulations', 'files', 'checksums', 'snapshots'])"
      ]
     },
     "execution_count": 29,
     "metadata": {},
     "output_type": "execute_result"
    }
   ],
   "source": [
    "sim = get( r['simulations'][i]['url'] )\n",
    "sim.keys()"
   ]
  },
  {
   "cell_type": "code",
   "execution_count": 30,
   "metadata": {},
   "outputs": [
    {
     "data": {
      "text/plain": [
       "94196375"
      ]
     },
     "execution_count": 30,
     "metadata": {},
     "output_type": "execute_result"
    }
   ],
   "source": [
    "#10\n",
    "sim['num_dm']"
   ]
  },
  {
   "cell_type": "code",
   "execution_count": 31,
   "metadata": {},
   "outputs": [
    {
     "data": {
      "text/plain": [
       "'http://www.tng-project.org/api/Illustris-3/snapshots/'"
      ]
     },
     "execution_count": 31,
     "metadata": {},
     "output_type": "execute_result"
    }
   ],
   "source": [
    "#Next, get the snapshot listing for this simulation.\n",
    "sim['snapshots']"
   ]
  },
  {
   "cell_type": "code",
   "execution_count": 32,
   "metadata": {},
   "outputs": [
    {
     "data": {
      "text/plain": [
       "136"
      ]
     },
     "execution_count": 32,
     "metadata": {},
     "output_type": "execute_result"
    }
   ],
   "source": [
    "snaps = get( sim['snapshots'] )\n",
    "len(snaps)"
   ]
  },
  {
   "cell_type": "code",
   "execution_count": 33,
   "metadata": {},
   "outputs": [
    {
     "data": {
      "text/plain": [
       "{'number': 135,\n",
       " 'redshift': 2.2204460492503099e-16,\n",
       " 'num_groups_subfind': 121209,\n",
       " 'url': 'http://www.tng-project.org/api/Illustris-3/snapshots/135/'}"
      ]
     },
     "execution_count": 33,
     "metadata": {},
     "output_type": "execute_result"
    }
   ],
   "source": [
    "#There are 136 total snapshots, inspect the last one, \n",
    "#which corresponds to z=0.\n",
    "snaps[-1]"
   ]
  },
  {
   "cell_type": "code",
   "execution_count": 34,
   "metadata": {
    "scrolled": true
   },
   "outputs": [
    {
     "data": {
      "text/plain": [
       "{'simulation': 'http://www.tng-project.org/api/Illustris-3/',\n",
       " 'number': 135,\n",
       " 'redshift': 2.2204460492503099e-16,\n",
       " 'num_gas': 87571556,\n",
       " 'num_dm': 94196375,\n",
       " 'num_trmc': 94196375,\n",
       " 'num_stars': 4388167,\n",
       " 'num_bhs': 33582,\n",
       " 'num_groups_fof': 131727,\n",
       " 'num_groups_subfind': 121209,\n",
       " 'num_groups_rockstar': 0,\n",
       " 'filesize_snapshot': 23437820660.0,\n",
       " 'filesize_groupcat': 114056740.0,\n",
       " 'filesize_rockstar': 0.0,\n",
       " 'url': 'http://www.tng-project.org/api/Illustris-3/snapshots/135/',\n",
       " 'subhalos': 'http://www.tng-project.org/api/Illustris-3/snapshots/135/subhalos/',\n",
       " 'vis': {'groupcat_sfms': 'http://www.tng-project.org/api/Illustris-3/snapshots/135/subhalos/plot.png?xQuant=mstar2_log&yQuant=ssfr&xlim=9.0%2C11.0',\n",
       "  'groupcat_sizemass': 'http://www.tng-project.org/api/Illustris-3/snapshots/135/subhalos/plot.png?xQuant=mstar2_log&yQuant=size_stars',\n",
       "  'groupcat_mz_gas': 'http://www.tng-project.org/api/Illustris-3/snapshots/135/subhalos/plot.png?xQuant=mstar2_log&yQuant=Z_gas',\n",
       "  'groupcat_mz_stars': 'http://www.tng-project.org/api/Illustris-3/snapshots/135/subhalos/plot.png?xQuant=mstar2_log&yQuant=Z_stars',\n",
       "  'groupcat_mstar_mhalo': 'http://www.tng-project.org/api/Illustris-3/snapshots/135/subhalos/plot.png?xQuant=mhalo_200_log&yQuant=mstar2_log',\n",
       "  'groupcat_smhm': 'http://www.tng-project.org/api/Illustris-3/snapshots/135/subhalos/plot.png?xQuant=mhalo_200_log&yQuant=mstar2_mhalo200_ratio&xlim=10.0%2C14.5',\n",
       "  'groupcat_halo_sizemass': 'http://www.tng-project.org/api/Illustris-3/snapshots/135/subhalos/plot.png?xQuant=mhalo_200_log&yQuant=rhalo_200&xlim=9.0%2C15.0',\n",
       "  'groupcat_fmr': 'http://www.tng-project.org/api/Illustris-3/snapshots/135/subhalos/plot.png?xQuant=mstar2_log&yQuant=delta_sfms&cQuant=Z_gas&xlim=8.5%2C11.0&ylim=-1.5%2C1.5&cRel=0.7%2C1.3'},\n",
       " 'files': {'snapshot': 'http://www.tng-project.org/api/Illustris-3/files/snapshot-135/',\n",
       "  'groupcat': 'http://www.tng-project.org/api/Illustris-3/files/groupcat-135/'}}"
      ]
     },
     "execution_count": 34,
     "metadata": {},
     "output_type": "execute_result"
    }
   ],
   "source": [
    "#Retrieve the full meta-data for this snapshot\n",
    "snap = get( snaps[-1]['url'] )\n",
    "snap"
   ]
  },
  {
   "cell_type": "code",
   "execution_count": 35,
   "metadata": {},
   "outputs": [
    {
     "data": {
      "text/plain": [
       "dict_keys(['count', 'next', 'previous', 'results'])"
      ]
     },
     "execution_count": 35,
     "metadata": {},
     "output_type": "execute_result"
    }
   ],
   "source": [
    "#15\n",
    "#Request and inspect the subhalos endpoint.\n",
    "subs = get( snap['subhalos'] )\n",
    "subs.keys()"
   ]
  },
  {
   "cell_type": "code",
   "execution_count": 36,
   "metadata": {},
   "outputs": [
    {
     "data": {
      "text/plain": [
       "121209"
      ]
     },
     "execution_count": 36,
     "metadata": {},
     "output_type": "execute_result"
    }
   ],
   "source": [
    "subs['count']"
   ]
  },
  {
   "cell_type": "code",
   "execution_count": 37,
   "metadata": {},
   "outputs": [
    {
     "data": {
      "text/plain": [
       "'http://www.tng-project.org/api/Illustris-3/snapshots/135/subhalos/?limit=100&offset=100'"
      ]
     },
     "execution_count": 37,
     "metadata": {},
     "output_type": "execute_result"
    }
   ],
   "source": [
    "subs['next']"
   ]
  },
  {
   "cell_type": "code",
   "execution_count": 38,
   "metadata": {},
   "outputs": [
    {
     "data": {
      "text/plain": [
       "100"
      ]
     },
     "execution_count": 38,
     "metadata": {},
     "output_type": "execute_result"
    }
   ],
   "source": [
    "len(subs['results'])"
   ]
  },
  {
   "cell_type": "code",
   "execution_count": 40,
   "metadata": {},
   "outputs": [
    {
     "data": {
      "text/plain": [
       "220"
      ]
     },
     "execution_count": 40,
     "metadata": {},
     "output_type": "execute_result"
    }
   ],
   "source": [
    "#The response is a paginated (ordered) list of all \n",
    "#Subfind subhalos which exist at this snapshot. The \n",
    "#default page size is 100 elements, this can be overridden \n",
    "#by specifying a limit parameter.\n",
    "\n",
    "subs = get( snap['subhalos'], {'limit':220} )\n",
    "len(subs['results'])\n"
   ]
  },
  {
   "cell_type": "code",
   "execution_count": 41,
   "metadata": {},
   "outputs": [
    {
     "data": {
      "text/plain": [
       "'http://www.tng-project.org/api/Illustris-3/snapshots/135/subhalos/?limit=220&offset=220'"
      ]
     },
     "execution_count": 41,
     "metadata": {},
     "output_type": "execute_result"
    }
   ],
   "source": [
    "#20\n",
    "subs['next']"
   ]
  },
  {
   "cell_type": "code",
   "execution_count": 42,
   "metadata": {},
   "outputs": [
    {
     "data": {
      "text/plain": [
       "{'id': 0,\n",
       " 'sfr': 4.11098,\n",
       " 'mass_log_msun': 14.554690443287308,\n",
       " 'url': 'http://www.tng-project.org/api/Illustris-3/snapshots/135/subhalos/0/'}"
      ]
     },
     "execution_count": 42,
     "metadata": {},
     "output_type": "execute_result"
    }
   ],
   "source": [
    "subs['results'][0]"
   ]
  },
  {
   "cell_type": "code",
   "execution_count": 43,
   "metadata": {},
   "outputs": [
    {
     "data": {
      "text/plain": [
       "20"
      ]
     },
     "execution_count": 43,
     "metadata": {},
     "output_type": "execute_result"
    }
   ],
   "source": [
    "#Return order is arbitrary unless specified.\n",
    "#Request the first twenty subhalos at this snapshot, \n",
    "#sorted by descending stellar mass.\n",
    "subs = get( snap['subhalos'], {'limit':20, 'order_by':'-mass_stars'} )\n",
    "len(subs['results'])\n"
   ]
  },
  {
   "cell_type": "code",
   "execution_count": 45,
   "metadata": {},
   "outputs": [
    {
     "data": {
      "text/plain": [
       "[0, 1030, 2074, 2302, 2843]"
      ]
     },
     "execution_count": 45,
     "metadata": {},
     "output_type": "execute_result"
    }
   ],
   "source": [
    "[ subs['results'][i]['id'] for i in range(5) ]\n",
    "#the most massive subhalo (with ID==0) also has the most \n",
    "#stars. The next ID (1030) is likely a central subhalo of \n",
    "#a subsequent FoF halo."
   ]
  },
  {
   "cell_type": "code",
   "execution_count": 46,
   "metadata": {},
   "outputs": [
    {
     "data": {
      "text/plain": [
       "{'snap': 135,\n",
       " 'id': 1030,\n",
       " 'bhmdot': 0.199144,\n",
       " 'cm_x': 10992.8,\n",
       " 'cm_y': 50807.7,\n",
       " 'cm_z': 47671.3,\n",
       " 'gasmetallicity': 0.00787963,\n",
       " 'gasmetallicityhalfrad': 0.0167215,\n",
       " 'gasmetallicitymaxrad': 0.053106,\n",
       " 'gasmetallicitysfr': 0.0510764,\n",
       " 'gasmetallicitysfrweighted': 0.0518217,\n",
       " 'pos_x': 10908.2,\n",
       " 'pos_y': 50865.5,\n",
       " 'pos_z': 47651.8,\n",
       " 'halfmassrad': 527.237,\n",
       " 'halfmassrad_gas': 660.879,\n",
       " 'halfmassrad_dm': 510.476,\n",
       " 'halfmassrad_stars': 50.759,\n",
       " 'halfmassrad_bhs': 0.0,\n",
       " 'len': 1113373,\n",
       " 'len_gas': 448911,\n",
       " 'len_dm': 624445,\n",
       " 'len_stars': 39946,\n",
       " 'len_bhs': 71,\n",
       " 'mass': 20463.1,\n",
       " 'mass_gas': 2678.49,\n",
       " 'mass_dm': 17620.2,\n",
       " 'mass_stars': 158.333,\n",
       " 'mass_bhs': 6.04079,\n",
       " 'massinhalfrad': 496.772,\n",
       " 'massinhalfrad_gas': 5.39936,\n",
       " 'massinhalfrad_dm': 406.895,\n",
       " 'massinhalfrad_stars': 79.1619,\n",
       " 'massinhalfrad_bhs': 5.31633,\n",
       " 'massinmaxrad': 5.28624,\n",
       " 'massinmaxrad_gas': 0.007397,\n",
       " 'massinmaxrad_dm': 0.0,\n",
       " 'massinmaxrad_stars': 0.015315,\n",
       " 'massinmaxrad_bhs': 5.26353,\n",
       " 'massinrad': 1352.77,\n",
       " 'massinrad_gas': 28.3612,\n",
       " 'massinrad_dm': 1217.89,\n",
       " 'massinrad_stars': 100.954,\n",
       " 'massinrad_bhs': 5.56788,\n",
       " 'sfr': 5.53373,\n",
       " 'sfrinhalfrad': 5.53373,\n",
       " 'sfrinmaxrad': 0.181456,\n",
       " 'sfrinrad': 5.53373,\n",
       " 'spin_x': 11334.7,\n",
       " 'spin_y': -6038.99,\n",
       " 'spin_z': -57340.1,\n",
       " 'starmetallicity': 0.0265244,\n",
       " 'starmetallicityhalfrad': 0.0295919,\n",
       " 'starmetallicitymaxrad': 0.050617,\n",
       " 'stellarphotometrics_u': -23.5693,\n",
       " 'stellarphotometrics_b': -23.9747,\n",
       " 'stellarphotometrics_v': -24.8368,\n",
       " 'stellarphotometrics_k': -27.7757,\n",
       " 'stellarphotometrics_g': -24.4276,\n",
       " 'stellarphotometrics_r': -25.1773,\n",
       " 'stellarphotometrics_i': -25.5364,\n",
       " 'stellarphotometrics_z': -25.7921,\n",
       " 'stellarphotometricsmassinrad': 66.8636,\n",
       " 'stellarphotometricsrad': 28.5133,\n",
       " 'vel_x': 245.727,\n",
       " 'vel_y': -93.7855,\n",
       " 'vel_z': 70.685,\n",
       " 'veldisp': 541.908,\n",
       " 'vmax': 1057.54,\n",
       " 'vmaxrad': 0.2035,\n",
       " 'windmass': 0.169171,\n",
       " 'prog_snap': 134,\n",
       " 'prog_sfid': 1004,\n",
       " 'desc_snap': -1,\n",
       " 'desc_sfid': -1,\n",
       " 'parent': 0,\n",
       " 'grnr': 2,\n",
       " 'primary_flag': 1,\n",
       " 'mass_log_msun': 14.463398767443746,\n",
       " 'related': {'sublink_progenitor': 'http://www.tng-project.org/api/Illustris-3/snapshots/134/subhalos/1004/',\n",
       "  'sublink_descendant': None,\n",
       "  'parent_halo': 'http://www.tng-project.org/api/Illustris-3/snapshots/135/halos/2/'},\n",
       " 'cutouts': {'subhalo': 'http://www.tng-project.org/api/Illustris-3/snapshots/135/subhalos/1030/cutout.hdf5',\n",
       "  'parent_halo': 'http://www.tng-project.org/api/Illustris-3/snapshots/135/halos/2/cutout.hdf5'},\n",
       " 'trees': {'sublink': 'http://www.tng-project.org/api/Illustris-3/snapshots/135/subhalos/1030/sublink/full.hdf5',\n",
       "  'sublink_mpb': 'http://www.tng-project.org/api/Illustris-3/snapshots/135/subhalos/1030/sublink/mpb.hdf5',\n",
       "  'sublink_mdb': 'http://www.tng-project.org/api/Illustris-3/snapshots/135/subhalos/1030/sublink/mdb.hdf5',\n",
       "  'sublink_simple': 'http://www.tng-project.org/api/Illustris-3/snapshots/135/subhalos/1030/sublink/simple.json',\n",
       "  'lhalotree': 'http://www.tng-project.org/api/Illustris-3/snapshots/135/subhalos/1030/lhalotree/full.hdf5',\n",
       "  'lhalotree_mpb': 'http://www.tng-project.org/api/Illustris-3/snapshots/135/subhalos/1030/lhalotree/mpb.hdf5'},\n",
       " 'supplementary_data': {},\n",
       " 'vis': {'mergertree_sublink': 'http://www.tng-project.org/api/Illustris-3/snapshots/135/subhalos/1030/sublink/tree.png',\n",
       "  'halo_gas_dens': 'http://www.tng-project.org/api/Illustris-3/snapshots/135/subhalos/1030/vis.png?partType=gas',\n",
       "  'halo_gas_temp': 'http://www.tng-project.org/api/Illustris-3/snapshots/135/subhalos/1030/vis.png?partType=gas&partField=temp',\n",
       "  'halo_dm_dens': 'http://www.tng-project.org/api/Illustris-3/snapshots/135/subhalos/1030/vis.png?partType=dm',\n",
       "  'halo_stellar_dens': 'http://www.tng-project.org/api/Illustris-3/snapshots/135/subhalos/1030/vis.png?partType=stars',\n",
       "  'galaxy_gas_dens': 'http://www.tng-project.org/api/Illustris-3/snapshots/135/subhalos/1030/vis.png?partType=gas&size=5.0&sizeType=rHalfMassStars',\n",
       "  'galaxy_gas_dens_faceon': 'http://www.tng-project.org/api/Illustris-3/snapshots/135/subhalos/1030/vis.png?partType=gas&size=5.0&sizeType=rHalfMassStars&rotation=face-on',\n",
       "  'galaxy_stellar_light': 'http://www.tng-project.org/api/Illustris-3/snapshots/135/subhalos/1030/vis.png?partType=stars&partField=stellarComp-jwst_f200w-jwst_f115w-jwst_f070w&size=5.0&sizeType=rHalfMassStars',\n",
       "  'galaxy_stellar_light_faceon': 'http://www.tng-project.org/api/Illustris-3/snapshots/135/subhalos/1030/vis.png?partType=stars&partField=stellarComp-jwst_f200w-jwst_f115w-jwst_f070w&size=5.0&sizeType=rHalfMassStars&rotation=face-on'},\n",
       " 'meta': {'url': 'http://www.tng-project.org/api/Illustris-3/snapshots/135/subhalos/1030/',\n",
       "  'snapshot': 'http://www.tng-project.org/api/Illustris-3/snapshots/135/',\n",
       "  'simulation': 'http://www.tng-project.org/api/Illustris-3/',\n",
       "  'info': 'http://www.tng-project.org/api/Illustris-3/snapshots/135/subhalos/1030/info.json'}}"
      ]
     },
     "execution_count": 46,
     "metadata": {},
     "output_type": "execute_result"
    }
   ],
   "source": [
    "#get the full subhalo information for ID==1030.\n",
    "sub = get( subs['results'][1]['url'] )\n",
    "sub"
   ]
  },
  {
   "cell_type": "code",
   "execution_count": 48,
   "metadata": {},
   "outputs": [
    {
     "data": {
      "text/plain": [
       "'http://www.tng-project.org/api/Illustris-3/snapshots/135/halos/2/info.json'"
      ]
     },
     "execution_count": 48,
     "metadata": {},
     "output_type": "execute_result"
    }
   ],
   "source": [
    "#25\n",
    "#desc_sfid = -1 and desc_snap = -1 indicate that this subhalo \n",
    "#has no descendant in the SubLink trees (as expected, since \n",
    "#we are at z=0). On the other hand, prog_sfid = 1004 and \n",
    "#prog_snap = 134 indicate that the main progenitor of this \n",
    "#subhalo has ID 1004 at snapshot 134. \n",
    "#The related['sublink_progenitor'] link would take us \n",
    "#directly there.\n",
    "\n",
    "#We also have id = 1030, a good sanity check. grnr = 2 \n",
    "#indicates that this subhalo is a member of FoF 2. \n",
    "#primary_flag = 1 indicates that this is the central \n",
    "#(i.e. most massive, or \"primary\") subhalo of this FoF halo.\n",
    "\n",
    "#Now we directly request a group catalog field dump of the \n",
    "#parent FoF halo.\n",
    "\n",
    "url = sub['related']['parent_halo'] + \"info.json\"\n",
    "url"
   ]
  },
  {
   "cell_type": "code",
   "execution_count": 49,
   "metadata": {},
   "outputs": [
    {
     "data": {
      "text/plain": [
       "dict_keys(['SimulationName', 'SnapshotNumber', 'InfoType', 'InfoID', 'GroupBHMass', 'GroupBHMdot', 'GroupCM', 'GroupFirstSub', 'GroupFuzzOffsetType', 'GroupGasMetalFractions', 'GroupGasMetallicity', 'GroupLen', 'GroupLenType', 'GroupMass', 'GroupMassType', 'GroupNsubs', 'GroupPos', 'GroupSFR', 'GroupStarMetalFractions', 'GroupStarMetallicity', 'GroupVel', 'GroupWindMass', 'Group_M_Crit200', 'Group_M_Crit500', 'Group_M_Mean200', 'Group_M_TopHat200', 'Group_R_Crit200', 'Group_R_Crit500', 'Group_R_Mean200', 'Group_R_TopHat200', 'StellarMasses', 'TracerLength', 'TracerOffset'])"
      ]
     },
     "execution_count": 49,
     "metadata": {},
     "output_type": "execute_result"
    }
   ],
   "source": [
    "parent_fof = get(url)\n",
    "parent_fof.keys()"
   ]
  },
  {
   "cell_type": "code",
   "execution_count": 52,
   "metadata": {},
   "outputs": [
    {
     "data": {
      "text/plain": [
       "366"
      ]
     },
     "execution_count": 52,
     "metadata": {},
     "output_type": "execute_result"
    }
   ],
   "source": [
    "#parent_fof['Group'] #the key names have changed from \n",
    "#'Group' in the tutorial to other specializations\n",
    "\n",
    "#parent_fof['GroupBHMass'] #this is the right format\n",
    "parent_fof['GroupNsubs']"
   ]
  },
  {
   "cell_type": "code",
   "execution_count": null,
   "metadata": {},
   "outputs": [],
   "source": [
    "#The subhalos/N/info.json and halos/N/info.json endpoints \n",
    "#provide a raw extraction from the group catalogs, so the \n",
    "#fields are named accordingly.\n"
   ]
  },
  {
   "cell_type": "code",
   "execution_count": 53,
   "metadata": {},
   "outputs": [],
   "source": [
    "def get(path, params=None):\n",
    "    # make HTTP GET request to path\n",
    "    r = requests.get(path, params=params, headers=headers)\n",
    "\n",
    "    # raise exception if response code is not HTTP SUCCESS (200)\n",
    "    r.raise_for_status()\n",
    "\n",
    "    if r.headers['content-type'] == 'application/json':\n",
    "        return r.json() # parse json responses automatically\n",
    "\n",
    "    if 'content-disposition' in r.headers:\n",
    "        filename = r.headers['content-disposition'].split(\"filename=\")[1]\n",
    "        with open(filename, 'wb') as f:\n",
    "            f.write(r.content)\n",
    "        return filename # return the filename string\n",
    "\n",
    "    return r"
   ]
  },
  {
   "cell_type": "code",
   "execution_count": 57,
   "metadata": {
    "scrolled": true
   },
   "outputs": [
    {
     "data": {
      "text/plain": [
       "<KeysViewHDF5 ['DescendantID', 'FirstProgenitorID', 'FirstSubhaloInFOFGroupID', 'Group_M_Crit200', 'Group_M_Mean200', 'Group_M_TopHat200', 'LastProgenitorID', 'MainLeafProgenitorID', 'Mass', 'MassHistory', 'NextProgenitorID', 'NextSubhaloInFOFGroupID', 'NumParticles', 'RootDescendantID', 'SnapNum', 'SubfindID', 'SubhaloBHMass', 'SubhaloBHMdot', 'SubhaloCM', 'SubhaloGasMetallicity', 'SubhaloGasMetallicityHalfRad', 'SubhaloGasMetallicityMaxRad', 'SubhaloGasMetallicitySfr', 'SubhaloGasMetallicitySfrWeighted', 'SubhaloGrNr', 'SubhaloHalfmassRad', 'SubhaloHalfmassRadType', 'SubhaloID', 'SubhaloIDMostbound', 'SubhaloIDRaw', 'SubhaloLen', 'SubhaloLenType', 'SubhaloMass', 'SubhaloMassInHalfRad', 'SubhaloMassInHalfRadType', 'SubhaloMassInMaxRad', 'SubhaloMassInMaxRadType', 'SubhaloMassInRad', 'SubhaloMassInRadType', 'SubhaloMassType', 'SubhaloParent', 'SubhaloPos', 'SubhaloSFR', 'SubhaloSFRinHalfRad', 'SubhaloSFRinMaxRad', 'SubhaloSFRinRad', 'SubhaloSpin', 'SubhaloStarMetallicity', 'SubhaloStarMetallicityHalfRad', 'SubhaloStarMetallicityMaxRad', 'SubhaloStellarPhotometrics', 'SubhaloStellarPhotometricsMassInRad', 'SubhaloStellarPhotometricsRad', 'SubhaloVel', 'SubhaloVelDisp', 'SubhaloVmax', 'SubhaloVmaxRad', 'SubhaloWindMass', 'TreeID']>"
      ]
     },
     "execution_count": 57,
     "metadata": {},
     "output_type": "execute_result"
    }
   ],
   "source": [
    "#30\n",
    "#request the main progenitor branch from the SubLink merger \n",
    "#trees of this subhalo.\n",
    "import h5py\n",
    "mpb1 = get( sub['trees']['sublink_mpb'] ) # file saved, mpb1 contains the filename\n",
    "\n",
    "f = h5py.File(mpb1,'r')\n",
    "#print f.keys() This gives an error. THe command works fien without print\n",
    "f.keys()"
   ]
  },
  {
   "cell_type": "code",
   "execution_count": 59,
   "metadata": {},
   "outputs": [
    {
     "data": {
      "text/plain": [
       "104"
      ]
     },
     "execution_count": 59,
     "metadata": {},
     "output_type": "execute_result"
    }
   ],
   "source": [
    "len(f['SnapNum'])"
   ]
  },
  {
   "cell_type": "code",
   "execution_count": 60,
   "metadata": {},
   "outputs": [
    {
     "data": {
      "text/plain": [
       "array([135, 134, 133, 132, 131, 130, 129, 128, 127, 126, 125, 124, 123,\n",
       "       122, 121, 120, 119, 118, 117, 116, 115, 114, 113, 112, 111, 110,\n",
       "       109, 108, 107, 106, 105, 104, 103, 102, 101, 100,  99,  98,  97,\n",
       "        96,  95,  94,  93,  92,  91,  90,  89,  88,  87,  86,  85,  84,\n",
       "        83,  82,  81,  80,  79,  78,  77,  76,  75,  74,  73,  72,  71,\n",
       "        70,  69,  68,  67,  66,  65,  64,  63,  62,  61,  60,  59,  58,\n",
       "        57,  56,  55,  54,  53,  52,  51,  50,  49,  48,  47,  46,  45,\n",
       "        44,  43,  42,  41,  40,  39,  38,  37,  36,  35,  34,  33,  32],\n",
       "      dtype=int16)"
      ]
     },
     "execution_count": 60,
     "metadata": {},
     "output_type": "execute_result"
    }
   ],
   "source": [
    "f['SnapNum'][:]"
   ]
  },
  {
   "cell_type": "code",
   "execution_count": 62,
   "metadata": {},
   "outputs": [],
   "source": [
    "f.close()"
   ]
  },
  {
   "cell_type": "code",
   "execution_count": 83,
   "metadata": {},
   "outputs": [
    {
     "name": "stdout",
     "output_type": "stream",
     "text": [
      "104\n"
     ]
    }
   ],
   "source": [
    "mpb2 = get( sub['trees']['lhalotree_mpb'] ) \n",
    "# file saved, mpb2 contains the filename\n",
    "with h5py.File(mpb2,'r') as f:\n",
    "    #len(f['SnapNum'])\n",
    "    #len(f['SnapNum'])\n",
    "    print(len(f['SnapNum']))"
   ]
  },
  {
   "cell_type": "code",
   "execution_count": 104,
   "metadata": {},
   "outputs": [
    {
     "data": {
      "image/png": "[encoded data removed]",
      "text/plain": [
       "<Figure size 432x288 with 1 Axes>"
      ]
     },
     "metadata": {
      "needs_background": "light"
     },
     "output_type": "display_data"
    }
   ],
   "source": [
    "#35 \n",
    "import matplotlib.pyplot as plt\n",
    "with h5py.File(mpb2,'r') as f:\n",
    "     pos = f['SubhaloPos'][:]\n",
    "     snapnum = f['SnapNum'][:]\n",
    "     subid = f['SubhaloNumber'][:]\n",
    " \n",
    "     for i in range(3):\n",
    "        mpl.plot(snapnum,pos[:,i] - pos[0,i], label=['x','y','z'][i])\n",
    "plt.legend() \n",
    "plt.xlabel('Snapshot Number')\n",
    "plt.ylabel('Pos$_{x,y,z}$(z) - Pos(z=0)');\n",
    "#call id is mpl, so using plt gives error. \n",
    "#Either import as plt or call as mpl."
   ]
  },
  {
   "cell_type": "code",
   "execution_count": 105,
   "metadata": {},
   "outputs": [
    {
     "data": {
      "text/plain": [
       "'http://www.tng-project.org/api/Illustris-3/snapshots/z=1/'"
      ]
     },
     "execution_count": 105,
     "metadata": {},
     "output_type": "execute_result"
    }
   ],
   "source": [
    "#Finally, let's get an actual cutout of snapshot data. \n",
    "#Our goal: an image of the gas density around the z=1\n",
    "#progenitor of our subhalo.\n",
    "\n",
    "#First, what is the snapshot we are looking for?\n",
    "url = sim['snapshots'] + \"z=1/\"\n",
    "url"
   ]
  },
  {
   "cell_type": "code",
   "execution_count": 106,
   "metadata": {},
   "outputs": [
    {
     "data": {
      "text/plain": [
       "(85, 0.9972942257819399)"
      ]
     },
     "execution_count": 106,
     "metadata": {},
     "output_type": "execute_result"
    }
   ],
   "source": [
    "snap = get(url)\n",
    "snap['number'], snap['redshift']"
   ]
  },
  {
   "cell_type": "code",
   "execution_count": 107,
   "metadata": {},
   "outputs": [
    {
     "data": {
      "text/plain": [
       "array([185])"
      ]
     },
     "execution_count": 107,
     "metadata": {},
     "output_type": "execute_result"
    }
   ],
   "source": [
    "#Find the target Subfind ID at snapshot 85 using the \n",
    "#Sublink tree.\n",
    "import numpy as np\n",
    "#import numpy before calling\n",
    "i = np.where(snapnum == 85)\n",
    "subid[i]"
   ]
  },
  {
   "cell_type": "code",
   "execution_count": 108,
   "metadata": {},
   "outputs": [
    {
     "data": {
      "text/plain": [
       "(11013.3, 51469.6)"
      ]
     },
     "execution_count": 108,
     "metadata": {},
     "output_type": "execute_result"
    }
   ],
   "source": [
    "#Request the subhalo details, and a snapshot cutout consisting \n",
    "#only of Gas fields Coordinates,Masses.\n",
    "sub_prog_url = \"http://www.tng-project.org/api/Illustris-3/snapshots/85/subhalos/185/\"\n",
    "sub_prog = get(sub_prog_url)\n",
    "sub_prog['pos_x'], sub_prog['pos_y']"
   ]
  },
  {
   "cell_type": "code",
   "execution_count": 109,
   "metadata": {},
   "outputs": [],
   "source": [
    "#40\n",
    "cutout_request = {'gas':'Coordinates,Masses'}\n",
    "cutout = get(sub_prog_url+\"cutout.hdf5\", cutout_request)"
   ]
  },
  {
   "cell_type": "code",
   "execution_count": 110,
   "metadata": {},
   "outputs": [
    {
     "data": {
      "image/png": "[encoded data removed]",
      "text/plain": [
       "<Figure size 432x288 with 1 Axes>"
      ]
     },
     "metadata": {
      "needs_background": "light"
     },
     "output_type": "display_data"
    }
   ],
   "source": [
    "#Make a quick 2d histogram visualization of the distribution \n",
    "#of gas bound to this subhalo, weighted by the log of gas cell \n",
    "#mass, and with position relative to the subhalo center.\n",
    "\n",
    "with h5py.File(cutout,'r') as f:\n",
    "     x = f['PartType0']['Coordinates'][:,0] - sub_prog['pos_x']\n",
    "     y = f['PartType0']['Coordinates'][:,1] - sub_prog['pos_y']\n",
    "     dens = np.log10(f['PartType0']['Masses'][:])\n",
    " \n",
    "plt.hist2d(x,y,weights=dens,bins=[150,100])\n",
    "plt.xlabel('$\\Delta x$ [ckpc/h]')\n",
    "plt.ylabel('$\\Delta y$ [ckpc/h]');"
   ]
  },
  {
   "cell_type": "markdown",
   "metadata": {},
   "source": [
    "****API Cookbook Starts Here!****"
   ]
  },
  {
   "cell_type": "code",
   "execution_count": 112,
   "metadata": {},
   "outputs": [],
   "source": [
    "#Examples for how to accomplish specific tasks, covering \n",
    "#some different API response formats.\n",
    "\n",
    "#Each example is independent, although we will use this \n",
    "#helper function to reduce verbosity:\n",
    "\n",
    "def get(path, params=None):\n",
    "    # make HTTP GET request to path\n",
    "    headers = {\"api-key\":\"bc47cc6e1bd83ad2708bc714f126dc09\"}\n",
    "    r = requests.get(path, params=params, headers=headers)\n",
    "\n",
    "    # raise exception if response code is not HTTP SUCCESS (200)\n",
    "    r.raise_for_status()\n",
    "\n",
    "    if r.headers['content-type'] == 'application/json':\n",
    "        return r.json() # parse json responses automatically\n",
    "\n",
    "    if 'content-disposition' in r.headers:\n",
    "        filename = r.headers['content-disposition'].split(\"filename=\")[1]\n",
    "        with open(filename, 'wb') as f:\n",
    "            f.write(r.content)\n",
    "        return filename # return the filename string\n",
    "\n",
    "    return r\n"
   ]
  },
  {
   "cell_type": "code",
   "execution_count": 113,
   "metadata": {},
   "outputs": [
    {
     "data": {
      "text/plain": [
       "22174.8"
      ]
     },
     "execution_count": 113,
     "metadata": {},
     "output_type": "execute_result"
    }
   ],
   "source": [
    "#Task 1: for Illustris-1 at z=0, get all the fields available \n",
    "#for the subhalo with id=0 and print its total mass and \n",
    "#stellar half mass radius.\n",
    "\n",
    "url = \"http://www.tng-project.org/api/Illustris-1/snapshots/135/subhalos/0/\"\n",
    "r = get(url)\n",
    "r['mass']"
   ]
  },
  {
   "cell_type": "code",
   "execution_count": 114,
   "metadata": {},
   "outputs": [
    {
     "data": {
      "text/plain": [
       "72.0388"
      ]
     },
     "execution_count": 114,
     "metadata": {},
     "output_type": "execute_result"
    }
   ],
   "source": [
    "#45\n",
    "r['halfmassrad_stars']"
   ]
  },
  {
   "cell_type": "code",
   "execution_count": 119,
   "metadata": {},
   "outputs": [
    {
     "data": {
      "text/plain": [
       "'?mass__gt=55.920707724589455&mass__lt=88.6283489903093'"
      ]
     },
     "execution_count": 119,
     "metadata": {},
     "output_type": "execute_result"
    }
   ],
   "source": [
    "#Task 2: for Illustris-1 at z=2, search for all subhalos \n",
    "#with total mass 10^(11.9)M_⊙<M<10^(12.1)M_⊙, print the number \n",
    "#returned, and the Subfind IDs of the first five results \n",
    "#(arbitrarily ordered, you may get different ids).\n",
    "\n",
    "# first convert log solar masses into group catalog units\n",
    "mass_min = 10**11.9 / 1e10 * 0.704\n",
    "mass_max = 10**12.1 / 1e10 * 0.704\n",
    "\n",
    "# form the search_query string by hand for once\n",
    "search_query = \"?mass__gt=\" + str(mass_min) + \"&mass__lt=\" + str(mass_max)\n",
    "search_query"
   ]
  },
  {
   "cell_type": "code",
   "execution_count": 120,
   "metadata": {},
   "outputs": [
    {
     "data": {
      "text/plain": [
       "550"
      ]
     },
     "execution_count": 120,
     "metadata": {},
     "output_type": "execute_result"
    }
   ],
   "source": [
    "# form the url and make the request\n",
    "url = \"http://www.tng-project.org/api/Illustris-1/snapshots/z=2/subhalos/\" + search_query\n",
    "subhalos = get(url)\n",
    "subhalos['count']"
   ]
  },
  {
   "cell_type": "code",
   "execution_count": 121,
   "metadata": {},
   "outputs": [
    {
     "data": {
      "text/plain": [
       "[1, 1352, 5525, 6574, 12718]"
      ]
     },
     "execution_count": 121,
     "metadata": {},
     "output_type": "execute_result"
    }
   ],
   "source": [
    "ids = [ subhalos['results'][i]['id'] for i in range(5) ]\n",
    "ids\n"
   ]
  },
  {
   "cell_type": "code",
   "execution_count": 127,
   "metadata": {},
   "outputs": [
    {
     "name": "stdout",
     "output_type": "stream",
     "text": [
      "109974 0.283605 7270\n",
      "110822 0.41813 5820\n",
      "123175 0.529888 11362\n",
      "107743 0.648827 10038\n",
      "95711 0.623781 12722\n"
     ]
    }
   ],
   "source": [
    "#Task 3: for Illustris-1 at z=2, retrieve all fields for \n",
    "#five specific Subfind IDs \n",
    "#(from above: 109974, 110822, 123175, 107743, 95711), \n",
    "#print the stellar mass and number of star particles in each.\n",
    "\n",
    "ids = [109974, 110822, 123175, 107743, 95711]\n",
    "for id in ids:\n",
    "     url = \"http://www.tng-project.org/api/Illustris-1/snapshots/z=2/subhalos/\" + str(id)\n",
    "     subhalo = get(url)\n",
    "     print(id, subhalo['mass_stars'], subhalo['len_stars'])\n"
   ]
  },
  {
   "cell_type": "code",
   "execution_count": 128,
   "metadata": {},
   "outputs": [
    {
     "name": "stdout",
     "output_type": "stream",
     "text": [
      "1 3.44785 54286\n",
      "1352 3.14618 47648\n",
      "5525 2.93244 45252\n",
      "6574 3.73319 58277\n",
      "12718 3.77762 57532\n"
     ]
    }
   ],
   "source": [
    "#50\n",
    "#This is an additional run for the original values I got from \n",
    "#running cell 48\n",
    "#this cell is not included in the original text, and is mainly\n",
    "#for personal experimentation.\n",
    "\n",
    "ids = [1, 1352, 5525, 6574, 12718]\n",
    "for id in ids:\n",
    "     url = \"http://www.tng-project.org/api/Illustris-1/snapshots/z=2/subhalos/\" + str(id)\n",
    "     subhalo = get(url)\n",
    "     print(id, subhalo['mass_stars'], subhalo['len_stars'])"
   ]
  },
  {
   "cell_type": "code",
   "execution_count": 130,
   "metadata": {},
   "outputs": [
    {
     "name": "stdout",
     "output_type": "stream",
     "text": [
      "109974 cutout_109974.hdf5\n",
      "110822 cutout_110822.hdf5\n",
      "123175 cutout_123175.hdf5\n",
      "107743 cutout_107743.hdf5\n",
      "95711 cutout_95711.hdf5\n"
     ]
    }
   ],
   "source": [
    "#Task 4: for Illustris-1 at z=2, for five specific Subfind \n",
    "#IDs (from above (cell 49): 109974, 110822, 123175, 107743, 95711), \n",
    "#extract and save full cutouts from the snapshot (HDF5 format).\n",
    "\n",
    "ids = [109974, 110822, 123175, 107743, 95711]\n",
    " \n",
    "for id in ids:\n",
    "    url = \"http://www.tng-project.org/api/Illustris-1/snapshots/z=2/subhalos/\" + str(id) + \"/cutout.hdf5\"\n",
    "    saved_filename = get(url)\n",
    "    print(id, saved_filename)"
   ]
  },
  {
   "cell_type": "code",
   "execution_count": 131,
   "metadata": {},
   "outputs": [
    {
     "name": "stdout",
     "output_type": "stream",
     "text": [
      "109974 745 cutout_745.hdf5\n",
      "110822 758 cutout_758.hdf5\n",
      "123175 971 cutout_971.hdf5\n",
      "107743 711 cutout_711.hdf5\n",
      "95711 548 cutout_548.hdf5\n"
     ]
    }
   ],
   "source": [
    "#Task 5: for Illustris-1 at z=2, for five specific Subfind \n",
    "#IDs (from above: 109974, 110822, 123175, 107743, 95711), \n",
    "#extract and save only star particles from the parent FoF \n",
    "#halo of each subhalo.\n",
    "\n",
    "ids = [109974, 110822, 123175, 107743, 95711]\n",
    "params = {'stars':'all'}\n",
    "\n",
    "for id in ids:\n",
    "    url = \"http://www.tng-project.org/api/Illustris-1/snapshots/z=2/subhalos/\" + str(id)\n",
    "    sub = get(url)\n",
    "    saved_filename = get(sub['cutouts']['parent_halo'],params)\n",
    "    print(sub['id'], sub['grnr'], saved_filename)"
   ]
  },
  {
   "cell_type": "code",
   "execution_count": 148,
   "metadata": {},
   "outputs": [
    {
     "name": "stdout",
     "output_type": "stream",
     "text": [
      "0.24839260388077714\n"
     ]
    },
    {
     "name": "stderr",
     "output_type": "stream",
     "text": [
      "C:\\Users\\debos\\anaconda3\\lib\\site-packages\\ipykernel_launcher.py:22: H5pyDeprecationWarning: The default file mode will change to 'r' (read-only) in h5py 3.0. To suppress this warning, pass the mode you need to h5py.File(), or set the global default h5.get_config().default_file_mode, or set the environment variable H5PY_DEFAULT_READONLY=1. Available modes are: 'r', 'r+', 'w', 'w-'/'x', 'a'. See the docs for details.\n"
     ]
    }
   ],
   "source": [
    "#Task 6: for Illustris-1 at z=2 for Subfind ID 109974, \n",
    "#get a cutout including only the positions and metallicities \n",
    "#of stars, and calculate the mean stellar metallicity in \n",
    "#solar units within the annuli 3kpc<r<5kpc (proper) centered \n",
    "#on the fiducial subhalo position.\n",
    "\n",
    "import h5py\n",
    "import numpy as np\n",
    "\n",
    "id = 109974\n",
    "redshift = 2.0\n",
    "params = {'stars':'Coordinates,GFM_Metallicity'}\n",
    "\n",
    "scale_factor = 1.0 / (1+redshift)\n",
    "little_h = 0.704\n",
    "solar_Z = 0.0127\n",
    "\n",
    "url = \"http://www.tng-project.org/api/Illustris-1/snapshots/z=\" + str(redshift) + \"/subhalos/\" + str(id)\n",
    "sub = get(url) # get json response of subhalo properties\n",
    "saved_filename = get(url + \"/cutout.hdf5\",params) # get and save HDF5 cutout file\n",
    "\n",
    "with h5py.File(saved_filename) as f:\n",
    "    # NOTE! If the subhalo is near the edge of the box, you must take the periodic boundary into account! (we ignore it here)\n",
    "    dx = f['PartType4']['Coordinates'][:,0] - sub['pos_x']\n",
    "    dy = f['PartType4']['Coordinates'][:,1] - sub['pos_y']\n",
    "    dz = f['PartType4']['Coordinates'][:,2] - sub['pos_z']\n",
    "    metals = f['PartType4']['GFM_Metallicity'][:]\n",
    "    mode = r   \n",
    "\n",
    "    rr = np.sqrt(dx**2 + dy**2 + dz**2)\n",
    "    rr *= scale_factor/little_h # ckpc/h -> physical kpc\n",
    "\n",
    "    w = np.where( (rr >= 3.0) & (rr < 5.0) )    \n",
    "    print(np.mean( metals[w] ) / solar_Z)\n",
    "    \n",
    "    ###Copy of Warning Message:###\n",
    "    #C:\\Users\\debos\\anaconda3\\lib\\site-packages\\ipykernel_launcher.py:22: \n",
    "    #H5pyDeprecationWarning: The default file mode will change \n",
    "    #to 'r' (read-only) in h5py 3.0. To suppress this warning, \n",
    "    #pass the mode you need to h5py.File(), or set the global \n",
    "    #default h5.get_config().default_file_mode, or set the \n",
    "    #environment variable H5PY_DEFAULT_READONLY=1. Available \n",
    "    #modes are: 'r', 'r+', 'w', 'w-'/'x', 'a'. See the docs for \n",
    "    #details."
   ]
  },
  {
   "cell_type": "code",
   "execution_count": 166,
   "metadata": {},
   "outputs": [
    {
     "name": "stdout",
     "output_type": "stream",
     "text": [
      "Descendant of 95711 at z=0 is 260067\n"
     ]
    }
   ],
   "source": [
    "#Task 8: for Illustris-1 at z=2, for five specific Subfind \n",
    "#IDs (from above: 109974, 110822, 123175, 107743, 95711), \n",
    "#locate the z=0 descendant of each by using the API to walk \n",
    "#down the SubLink descendant links.\n",
    "\n",
    "ids = [109974, 110822, 123175, 107743, 95711]\n",
    "#z0_descendant_ids = [-1]*len(ids)\n",
    "z0_descendant_ids = [-1]*len(ids)\n",
    "\n",
    "for i,id in enumerate(ids):\n",
    "    start_url = \"http://www.tng-project.org/api/Illustris-1/snapshots/68/subhalos/\" + str(id)\n",
    "    sub = get(start_url)\n",
    "    \n",
    "    while sub['desc_sfid'] != -1:\n",
    "        # request the full subhalo details of the descendant by following the sublink URL\n",
    "        sub = get(sub['related']['sublink_descendant'])\n",
    "        if sub['snap'] == 135:\n",
    "            z0_descendant_ids[i] = sub['id']\n",
    "            \n",
    "if z0_descendant_ids[i] >= 0:\n",
    "    print('Descendant of ' + str(id) + ' at z=0 is ' + str(z0_descendant_ids[i]))\n",
    "else:\n",
    "    print('Descendant of ' + str(id) + ' not followed to z=0!')"
   ]
  },
  {
   "cell_type": "code",
   "execution_count": 160,
   "metadata": {
    "scrolled": true
   },
   "outputs": [
    {
     "name": "stderr",
     "output_type": "stream",
     "text": [
      "C:\\Users\\debos\\anaconda3\\lib\\site-packages\\ipykernel_launcher.py:25: RuntimeWarning: divide by zero encountered in log10\n"
     ]
    },
    {
     "data": {
      "image/png": "[encoded data removed]",
      "text/plain": [
       "<Figure size 432x288 with 1 Axes>"
      ]
     },
     "metadata": {
      "needs_background": "light"
     },
     "output_type": "display_data"
    }
   ],
   "source": [
    "#55\n",
    "#Task 9: for Illustris-1 at z=2 track Subfind ID 109974 to z=0,\n",
    "#using the API to walk down the SubLink descendant links, and \n",
    "#plot the mass evolution of each component (gas, dark matter, \n",
    "#stars, and black holes).\n",
    "\n",
    "id = 109974\n",
    "url = \"http://www.tng-project.org/api/Illustris-1/snapshots/68/subhalos/\" + str(id)\n",
    "sub = get(url) # get json response of subhalo properties\n",
    "\n",
    "# prepare dict to hold result arrays\n",
    "fields = ['snap','id','mass_gas','mass_stars','mass_dm','mass_bhs']\n",
    "r = {}\n",
    "for field in fields:\n",
    "    r[field] = []\n",
    "\n",
    "while sub['desc_sfid'] != -1:\n",
    "    for field in fields:\n",
    "        r[field].append(sub[field])\n",
    "    # request the full subhalo details of the descendant by following the sublink URL\n",
    "    sub = get(sub['related']['sublink_descendant'])\n",
    "\n",
    "# make a plot (notice our subhalo falls into a much more massive halo around snapshot 105)\n",
    "for partType in ['gas','dm','stars','bhs']:\n",
    "    mass_logmsun = np.log10( np.array(r['mass_'+partType])*1e10/0.704)\n",
    "    plt.plot(r['snap'],mass_logmsun,label=partType)\n",
    "\n",
    "plt.xlabel('Snapshot Number')\n",
    "plt.ylabel('Mass [log $M_\\odot$]')\n",
    "plt.legend(loc='lower right');\n",
    "\n",
    "#C:\\Users\\debos\\anaconda3\\lib\\site-packages\\ipykernel_launcher.\n",
    "#py:25: RuntimeWarning: divide by zero encountered in log10"
   ]
  },
  {
   "cell_type": "code",
   "execution_count": 190,
   "metadata": {},
   "outputs": [
    {
     "ename": "TooManyRedirects",
     "evalue": "Exceeded 30 redirects.",
     "output_type": "error",
     "traceback": [
      "\u001b[1;31m---------------------------------------------------------------------------\u001b[0m",
      "\u001b[1;31mTooManyRedirects\u001b[0m                          Traceback (most recent call last)",
      "\u001b[1;32m<ipython-input-190-bd1b04f5d1ce>\u001b[0m in \u001b[0;36m<module>\u001b[1;34m\u001b[0m\n\u001b[0;32m     32\u001b[0m         \u001b[1;31m# download PNG image, the version which includes all stars in the FoF halo (try replacing 'fof' with 'gz')\u001b[0m\u001b[1;33m\u001b[0m\u001b[1;33m\u001b[0m\u001b[1;33m\u001b[0m\u001b[0m\n\u001b[0;32m     33\u001b[0m         \u001b[0mpng_url\u001b[0m \u001b[1;33m=\u001b[0m \u001b[0msub\u001b[0m\u001b[1;33m[\u001b[0m\u001b[1;34m'supplementary_data'\u001b[0m\u001b[1;33m]\u001b[0m\u001b[1;33m[\u001b[0m\u001b[1;34m'stellar_mocks'\u001b[0m\u001b[1;33m]\u001b[0m\u001b[1;33m[\u001b[0m\u001b[1;34m'image_fof'\u001b[0m\u001b[1;33m]\u001b[0m\u001b[1;33m\u001b[0m\u001b[1;33m\u001b[0m\u001b[0m\n\u001b[1;32m---> 34\u001b[1;33m         \u001b[0mresponse\u001b[0m \u001b[1;33m=\u001b[0m \u001b[0mget\u001b[0m\u001b[1;33m(\u001b[0m\u001b[0mpng_url\u001b[0m\u001b[1;33m)\u001b[0m\u001b[1;33m\u001b[0m\u001b[1;33m\u001b[0m\u001b[0m\n\u001b[0m\u001b[0;32m     35\u001b[0m \u001b[1;33m\u001b[0m\u001b[0m\n\u001b[0;32m     36\u001b[0m         \u001b[1;31m# make plot a bit nicer\u001b[0m\u001b[1;33m\u001b[0m\u001b[1;33m\u001b[0m\u001b[1;33m\u001b[0m\u001b[0m\n",
      "\u001b[1;32m<ipython-input-112-f2c2e9de6223>\u001b[0m in \u001b[0;36mget\u001b[1;34m(path, params)\u001b[0m\n\u001b[0;32m      8\u001b[0m     \u001b[1;31m# make HTTP GET request to path\u001b[0m\u001b[1;33m\u001b[0m\u001b[1;33m\u001b[0m\u001b[1;33m\u001b[0m\u001b[0m\n\u001b[0;32m      9\u001b[0m     \u001b[0mheaders\u001b[0m \u001b[1;33m=\u001b[0m \u001b[1;33m{\u001b[0m\u001b[1;34m\"api-key\"\u001b[0m\u001b[1;33m:\u001b[0m\u001b[1;34m\"bc47cc6e1bd83ad2708bc714f126dc09\"\u001b[0m\u001b[1;33m}\u001b[0m\u001b[1;33m\u001b[0m\u001b[1;33m\u001b[0m\u001b[0m\n\u001b[1;32m---> 10\u001b[1;33m     \u001b[0mr\u001b[0m \u001b[1;33m=\u001b[0m \u001b[0mrequests\u001b[0m\u001b[1;33m.\u001b[0m\u001b[0mget\u001b[0m\u001b[1;33m(\u001b[0m\u001b[0mpath\u001b[0m\u001b[1;33m,\u001b[0m \u001b[0mparams\u001b[0m\u001b[1;33m=\u001b[0m\u001b[0mparams\u001b[0m\u001b[1;33m,\u001b[0m \u001b[0mheaders\u001b[0m\u001b[1;33m=\u001b[0m\u001b[0mheaders\u001b[0m\u001b[1;33m)\u001b[0m\u001b[1;33m\u001b[0m\u001b[1;33m\u001b[0m\u001b[0m\n\u001b[0m\u001b[0;32m     11\u001b[0m \u001b[1;33m\u001b[0m\u001b[0m\n\u001b[0;32m     12\u001b[0m     \u001b[1;31m# raise exception if response code is not HTTP SUCCESS (200)\u001b[0m\u001b[1;33m\u001b[0m\u001b[1;33m\u001b[0m\u001b[1;33m\u001b[0m\u001b[0m\n",
      "\u001b[1;32m~\\anaconda3\\lib\\site-packages\\requests\\api.py\u001b[0m in \u001b[0;36mget\u001b[1;34m(url, params, **kwargs)\u001b[0m\n\u001b[0;32m     73\u001b[0m \u001b[1;33m\u001b[0m\u001b[0m\n\u001b[0;32m     74\u001b[0m     \u001b[0mkwargs\u001b[0m\u001b[1;33m.\u001b[0m\u001b[0msetdefault\u001b[0m\u001b[1;33m(\u001b[0m\u001b[1;34m'allow_redirects'\u001b[0m\u001b[1;33m,\u001b[0m \u001b[1;32mTrue\u001b[0m\u001b[1;33m)\u001b[0m\u001b[1;33m\u001b[0m\u001b[1;33m\u001b[0m\u001b[0m\n\u001b[1;32m---> 75\u001b[1;33m     \u001b[1;32mreturn\u001b[0m \u001b[0mrequest\u001b[0m\u001b[1;33m(\u001b[0m\u001b[1;34m'get'\u001b[0m\u001b[1;33m,\u001b[0m \u001b[0murl\u001b[0m\u001b[1;33m,\u001b[0m \u001b[0mparams\u001b[0m\u001b[1;33m=\u001b[0m\u001b[0mparams\u001b[0m\u001b[1;33m,\u001b[0m \u001b[1;33m**\u001b[0m\u001b[0mkwargs\u001b[0m\u001b[1;33m)\u001b[0m\u001b[1;33m\u001b[0m\u001b[1;33m\u001b[0m\u001b[0m\n\u001b[0m\u001b[0;32m     76\u001b[0m \u001b[1;33m\u001b[0m\u001b[0m\n\u001b[0;32m     77\u001b[0m \u001b[1;33m\u001b[0m\u001b[0m\n",
      "\u001b[1;32m~\\anaconda3\\lib\\site-packages\\requests\\api.py\u001b[0m in \u001b[0;36mrequest\u001b[1;34m(method, url, **kwargs)\u001b[0m\n\u001b[0;32m     58\u001b[0m     \u001b[1;31m# cases, and look like a memory leak in others.\u001b[0m\u001b[1;33m\u001b[0m\u001b[1;33m\u001b[0m\u001b[1;33m\u001b[0m\u001b[0m\n\u001b[0;32m     59\u001b[0m     \u001b[1;32mwith\u001b[0m \u001b[0msessions\u001b[0m\u001b[1;33m.\u001b[0m\u001b[0mSession\u001b[0m\u001b[1;33m(\u001b[0m\u001b[1;33m)\u001b[0m \u001b[1;32mas\u001b[0m \u001b[0msession\u001b[0m\u001b[1;33m:\u001b[0m\u001b[1;33m\u001b[0m\u001b[1;33m\u001b[0m\u001b[0m\n\u001b[1;32m---> 60\u001b[1;33m         \u001b[1;32mreturn\u001b[0m \u001b[0msession\u001b[0m\u001b[1;33m.\u001b[0m\u001b[0mrequest\u001b[0m\u001b[1;33m(\u001b[0m\u001b[0mmethod\u001b[0m\u001b[1;33m=\u001b[0m\u001b[0mmethod\u001b[0m\u001b[1;33m,\u001b[0m \u001b[0murl\u001b[0m\u001b[1;33m=\u001b[0m\u001b[0murl\u001b[0m\u001b[1;33m,\u001b[0m \u001b[1;33m**\u001b[0m\u001b[0mkwargs\u001b[0m\u001b[1;33m)\u001b[0m\u001b[1;33m\u001b[0m\u001b[1;33m\u001b[0m\u001b[0m\n\u001b[0m\u001b[0;32m     61\u001b[0m \u001b[1;33m\u001b[0m\u001b[0m\n\u001b[0;32m     62\u001b[0m \u001b[1;33m\u001b[0m\u001b[0m\n",
      "\u001b[1;32m~\\anaconda3\\lib\\site-packages\\requests\\sessions.py\u001b[0m in \u001b[0;36mrequest\u001b[1;34m(self, method, url, params, data, headers, cookies, files, auth, timeout, allow_redirects, proxies, hooks, stream, verify, cert, json)\u001b[0m\n\u001b[0;32m    531\u001b[0m         }\n\u001b[0;32m    532\u001b[0m         \u001b[0msend_kwargs\u001b[0m\u001b[1;33m.\u001b[0m\u001b[0mupdate\u001b[0m\u001b[1;33m(\u001b[0m\u001b[0msettings\u001b[0m\u001b[1;33m)\u001b[0m\u001b[1;33m\u001b[0m\u001b[1;33m\u001b[0m\u001b[0m\n\u001b[1;32m--> 533\u001b[1;33m         \u001b[0mresp\u001b[0m \u001b[1;33m=\u001b[0m \u001b[0mself\u001b[0m\u001b[1;33m.\u001b[0m\u001b[0msend\u001b[0m\u001b[1;33m(\u001b[0m\u001b[0mprep\u001b[0m\u001b[1;33m,\u001b[0m \u001b[1;33m**\u001b[0m\u001b[0msend_kwargs\u001b[0m\u001b[1;33m)\u001b[0m\u001b[1;33m\u001b[0m\u001b[1;33m\u001b[0m\u001b[0m\n\u001b[0m\u001b[0;32m    534\u001b[0m \u001b[1;33m\u001b[0m\u001b[0m\n\u001b[0;32m    535\u001b[0m         \u001b[1;32mreturn\u001b[0m \u001b[0mresp\u001b[0m\u001b[1;33m\u001b[0m\u001b[1;33m\u001b[0m\u001b[0m\n",
      "\u001b[1;32m~\\anaconda3\\lib\\site-packages\\requests\\sessions.py\u001b[0m in \u001b[0;36msend\u001b[1;34m(self, request, **kwargs)\u001b[0m\n\u001b[0;32m    666\u001b[0m \u001b[1;33m\u001b[0m\u001b[0m\n\u001b[0;32m    667\u001b[0m         \u001b[1;31m# Resolve redirects if allowed.\u001b[0m\u001b[1;33m\u001b[0m\u001b[1;33m\u001b[0m\u001b[1;33m\u001b[0m\u001b[0m\n\u001b[1;32m--> 668\u001b[1;33m         \u001b[0mhistory\u001b[0m \u001b[1;33m=\u001b[0m \u001b[1;33m[\u001b[0m\u001b[0mresp\u001b[0m \u001b[1;32mfor\u001b[0m \u001b[0mresp\u001b[0m \u001b[1;32min\u001b[0m \u001b[0mgen\u001b[0m\u001b[1;33m]\u001b[0m \u001b[1;32mif\u001b[0m \u001b[0mallow_redirects\u001b[0m \u001b[1;32melse\u001b[0m \u001b[1;33m[\u001b[0m\u001b[1;33m]\u001b[0m\u001b[1;33m\u001b[0m\u001b[1;33m\u001b[0m\u001b[0m\n\u001b[0m\u001b[0;32m    669\u001b[0m \u001b[1;33m\u001b[0m\u001b[0m\n\u001b[0;32m    670\u001b[0m         \u001b[1;31m# Shuffle things around if there's history.\u001b[0m\u001b[1;33m\u001b[0m\u001b[1;33m\u001b[0m\u001b[1;33m\u001b[0m\u001b[0m\n",
      "\u001b[1;32m~\\anaconda3\\lib\\site-packages\\requests\\sessions.py\u001b[0m in \u001b[0;36m<listcomp>\u001b[1;34m(.0)\u001b[0m\n\u001b[0;32m    666\u001b[0m \u001b[1;33m\u001b[0m\u001b[0m\n\u001b[0;32m    667\u001b[0m         \u001b[1;31m# Resolve redirects if allowed.\u001b[0m\u001b[1;33m\u001b[0m\u001b[1;33m\u001b[0m\u001b[1;33m\u001b[0m\u001b[0m\n\u001b[1;32m--> 668\u001b[1;33m         \u001b[0mhistory\u001b[0m \u001b[1;33m=\u001b[0m \u001b[1;33m[\u001b[0m\u001b[0mresp\u001b[0m \u001b[1;32mfor\u001b[0m \u001b[0mresp\u001b[0m \u001b[1;32min\u001b[0m \u001b[0mgen\u001b[0m\u001b[1;33m]\u001b[0m \u001b[1;32mif\u001b[0m \u001b[0mallow_redirects\u001b[0m \u001b[1;32melse\u001b[0m \u001b[1;33m[\u001b[0m\u001b[1;33m]\u001b[0m\u001b[1;33m\u001b[0m\u001b[1;33m\u001b[0m\u001b[0m\n\u001b[0m\u001b[0;32m    669\u001b[0m \u001b[1;33m\u001b[0m\u001b[0m\n\u001b[0;32m    670\u001b[0m         \u001b[1;31m# Shuffle things around if there's history.\u001b[0m\u001b[1;33m\u001b[0m\u001b[1;33m\u001b[0m\u001b[1;33m\u001b[0m\u001b[0m\n",
      "\u001b[1;32m~\\anaconda3\\lib\\site-packages\\requests\\sessions.py\u001b[0m in \u001b[0;36mresolve_redirects\u001b[1;34m(self, resp, req, stream, timeout, verify, cert, proxies, yield_requests, **adapter_kwargs)\u001b[0m\n\u001b[0;32m    163\u001b[0m \u001b[1;33m\u001b[0m\u001b[0m\n\u001b[0;32m    164\u001b[0m             \u001b[1;32mif\u001b[0m \u001b[0mlen\u001b[0m\u001b[1;33m(\u001b[0m\u001b[0mresp\u001b[0m\u001b[1;33m.\u001b[0m\u001b[0mhistory\u001b[0m\u001b[1;33m)\u001b[0m \u001b[1;33m>=\u001b[0m \u001b[0mself\u001b[0m\u001b[1;33m.\u001b[0m\u001b[0mmax_redirects\u001b[0m\u001b[1;33m:\u001b[0m\u001b[1;33m\u001b[0m\u001b[1;33m\u001b[0m\u001b[0m\n\u001b[1;32m--> 165\u001b[1;33m                 \u001b[1;32mraise\u001b[0m \u001b[0mTooManyRedirects\u001b[0m\u001b[1;33m(\u001b[0m\u001b[1;34m'Exceeded %s redirects.'\u001b[0m \u001b[1;33m%\u001b[0m \u001b[0mself\u001b[0m\u001b[1;33m.\u001b[0m\u001b[0mmax_redirects\u001b[0m\u001b[1;33m,\u001b[0m \u001b[0mresponse\u001b[0m\u001b[1;33m=\u001b[0m\u001b[0mresp\u001b[0m\u001b[1;33m)\u001b[0m\u001b[1;33m\u001b[0m\u001b[1;33m\u001b[0m\u001b[0m\n\u001b[0m\u001b[0;32m    166\u001b[0m \u001b[1;33m\u001b[0m\u001b[0m\n\u001b[0;32m    167\u001b[0m             \u001b[1;31m# Release the connection back into the pool.\u001b[0m\u001b[1;33m\u001b[0m\u001b[1;33m\u001b[0m\u001b[1;33m\u001b[0m\u001b[0m\n",
      "\u001b[1;31mTooManyRedirects\u001b[0m: Exceeded 30 redirects."
     ]
    },
    {
     "data": {
      "text/plain": [
       "<Figure size 1080x216 with 0 Axes>"
      ]
     },
     "metadata": {},
     "output_type": "display_data"
    }
   ],
   "source": [
    "#Task 10: for Illustris-1 at z=0, check if pre-rendered mock \n",
    "#stellar images exist for five specific Subfind IDs (the \n",
    "#descendants from above: 41092, 338375, 257378, 110568, 260067). \n",
    "#If so, download and display the PNGs.\n",
    "\n",
    "import matplotlib.image as mpimg\n",
    "\n",
    "#I tried a bunch of stuff from\n",
    "#https://stackoverflow.com/questions/11914472/stringio-in-python3\n",
    "#StringIO doesn't exist for Python 3.\n",
    "#Imported numpy again because code kept breaking w/o it.\n",
    "\n",
    "import numpy as np\n",
    "from io import StringIO\n",
    "import io\n",
    "\n",
    "#from io import BytesIO\n",
    "#from io import StringIO\n",
    "###from StringIO import StringIO###original\n",
    "\n",
    "ids = [41092,338375,257378,110568,260067]\n",
    "\n",
    "sub_count = 1\n",
    "plt.figure(figsize=[15,3])\n",
    "\n",
    "for id in ids:\n",
    "    url = \"http://www.tng-project.org/api/Illustris-1/snapshots/135/subhalos/\" + str(id)\n",
    "    sub = get(url)\n",
    "    \n",
    "    # it is of course possible this data product does not exist for all requested subhalos\n",
    "    if 'stellar_mocks' in sub['supplementary_data']: \n",
    "        # download PNG image, the version which includes all stars in the FoF halo (try replacing 'fof' with 'gz')\n",
    "        png_url = sub['supplementary_data']['stellar_mocks']['image_fof']\n",
    "        response = get(png_url)\n",
    "        \n",
    "        # make plot a bit nicer\n",
    "        plt.subplot(1,len(ids),sub_count)\n",
    "        plt.text(0,-20,\"ID=\"+str(id),color='blue')\n",
    "        plt.gca().axes.get_xaxis().set_ticks([])\n",
    "        plt.gca().axes.get_yaxis().set_ticks([])\n",
    "        sub_count += 1\n",
    "        \n",
    "        # plot the PNG binary data directly, without actually saving a .png file\n",
    "        file_object = StringIO(response.content)\n",
    "        plt.imshow(mpimg.imread(file_object))\n",
    "        \n",
    "#too many redirects, exceeds 30 redirects. Has the site address\n",
    "#changed? Can't get headers to reset.Check out link below:\n",
    "#https://stackoverflow.com/questions/42237672/python-toomanyredirects-exceeded-30-redirects"
   ]
  },
  {
   "cell_type": "code",
   "execution_count": null,
   "metadata": {},
   "outputs": [
    {
     "name": "stdout",
     "output_type": "stream",
     "text": [
      "snap_135.0.hdf5\n",
      "snap_135.1.hdf5\n",
      "snap_135.2.hdf5\n",
      "snap_135.3.hdf5\n",
      "snap_135.4.hdf5\n",
      "snap_135.5.hdf5\n",
      "snap_135.6.hdf5\n",
      "snap_135.7.hdf5\n",
      "snap_135.8.hdf5\n"
     ]
    }
   ],
   "source": [
    "#Task 11: download the entire Illustris-1 z=0 snapshot \n",
    "#including only the positions, masses, and metallicities of \n",
    "#stars (in the form of 512 HDF5 files).\n",
    "\n",
    "base_url = \"http://www.tng-project.org/api/Illustris-1/\"\n",
    "sim_metadata = get(base_url)\n",
    "params = {'stars':'Coordinates,Masses,GFM_Metallicity'}\n",
    "\n",
    "for i in range(sim_metadata['num_files_snapshot']):\n",
    "    file_url = base_url + \"files/snapshot-135.\" + str(i) + \".hdf5\"\n",
    "    saved_filename = get(file_url, params)\n",
    "    print(saved_filename)"
   ]
  },
  {
   "cell_type": "code",
   "execution_count": null,
   "metadata": {},
   "outputs": [],
   "source": []
  },
  {
   "cell_type": "code",
   "execution_count": null,
   "metadata": {},
   "outputs": [],
   "source": []
  }
 ],
 "metadata": {
  "kernelspec": {
   "display_name": "Python 3",
   "language": "python",
   "name": "python3"
  },
  "language_info": {
   "codemirror_mode": {
    "name": "ipython",
    "version": 3
   },
   "file_extension": ".py",
   "mimetype": "text/x-python",
   "name": "python",
   "nbconvert_exporter": "python",
   "pygments_lexer": "ipython3",
   "version": "3.7.6"
  }
 },
 "nbformat": 4,
 "nbformat_minor": 4
}
