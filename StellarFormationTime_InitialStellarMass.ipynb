{
 "cells": [
  {
   "cell_type": "code",
   "execution_count": 2,
   "metadata": {},
   "outputs": [],
   "source": [
    "#Refer to TASK 6 at: https://www.tng-project.org/data/docs/api/\n",
    "#Also refer to: https://www.tng-project.org/data/docs/specifications/#parttype4\n",
    "\n",
    "#Set of preliminary definitions, might add to this later\n",
    "\n",
    "from __future__ import print_function, division\n",
    "\n",
    "import math\n",
    "import numpy as np\n",
    "import matplotlib.pyplot as plt\n",
    "import matplotlib.image as mpimg\n",
    "%matplotlib inline\n",
    "\n",
    "from io import StringIO\n",
    "import io\n",
    "\n",
    "from astropy.cosmology import FlatLambdaCDM\n",
    "import astropy.units as u\n",
    "from astropy.constants import G, h, k_B\n",
    "\n",
    "\n",
    "#imported requests\n",
    "import requests\n",
    "\n",
    "baseUrl = 'http://www.tng-project.org/api/'\n",
    "headers = {\"api-key\":\"bc47cc6e1bd83ad2708bc714f126dc09\"}\n",
    "\n",
    "#defined get()\n",
    "def get(path, params=None):\n",
    "    # make HTTP GET request to path\n",
    "    headers = {\"api-key\":\"bc47cc6e1bd83ad2708bc714f126dc09\"}\n",
    "    r = requests.get(path, params=params, headers=headers)\n",
    "\n",
    "    # raise exception if response code is not HTTP SUCCESS (200)\n",
    "    r.raise_for_status()\n",
    "\n",
    "    if r.headers['content-type'] == 'application/json':\n",
    "        return r.json() # parse json responses automatically\n",
    "\n",
    "    if 'content-disposition' in r.headers:\n",
    "        filename = r.headers['content-disposition'].split(\"filename=\")[1]\n",
    "        with open(filename, 'wb') as f:\n",
    "            f.write(r.content)\n",
    "        return filename # return the filename string\n",
    "\n",
    "    return r\n"
   ]
  },
  {
   "cell_type": "markdown",
   "metadata": {},
   "source": [
    "    o> plot mass-size relation for galaxies at z=2 with log M > 10\n",
    "    o> pick just one galaxy at z=2 with log M > 10\n",
    "    o> for this one galaxy, download the initial mass and formation time for all its o stellar particles\n",
    "    o> convert formation time from units of scale factor to units of age of the Universe in Gyr\n",
    "    o> make histogram of formation time\n",
    "    o> make histogram of formation time weighted by the initial mass\n",
    "    o> refer to Task 6"
   ]
  },
  {
   "cell_type": "code",
   "execution_count": 3,
   "metadata": {},
   "outputs": [
    {
     "data": {
      "text/plain": [
       "'?mass_stars__gt=0.6774'"
      ]
     },
     "execution_count": 3,
     "metadata": {},
     "output_type": "execute_result"
    }
   ],
   "source": [
    "redshift = 2.0\n",
    "h = 0.6774 #in TNG100-1 scaling\n",
    "scale_factor = a = 1.0 / (1+redshift)\n",
    "solar_Z = 0.0127 #unsure if this needs to be changed\n",
    "\n",
    "#select for mass range\n",
    "mass_min = 10**10 / 1e10 * h\n",
    "#mass_max = 10**12 / 1e10 * h\n",
    "\n",
    "# form the search_query string by hand for once\n",
    "search_query = \"?mass_stars__gt=\" + str(mass_min) #+ \"&mass_stars__lt=\" + str(mass_max)\n",
    "search_query"
   ]
  },
  {
   "cell_type": "code",
   "execution_count": 4,
   "metadata": {},
   "outputs": [
    {
     "data": {
      "text/plain": [
       "3050"
      ]
     },
     "execution_count": 4,
     "metadata": {},
     "output_type": "execute_result"
    }
   ],
   "source": [
    "url = \"http://www.tng-project.org/api/TNG100-1/snapshots/z=\" + str(redshift) + \"/subhalos/\" + search_query\n",
    "\n",
    "subhalos = get(url, {'limit':5000})\n",
    "subhalos['count']"
   ]
  },
  {
   "cell_type": "code",
   "execution_count": 5,
   "metadata": {},
   "outputs": [
    {
     "data": {
      "text/plain": [
       "[0, 1]"
      ]
     },
     "execution_count": 5,
     "metadata": {},
     "output_type": "execute_result"
    }
   ],
   "source": [
    "#getting subfind ID for first galaxy\n",
    "ids = [ subhalos['results'][i]['id'] for i in range(2) ]\n",
    "ids"
   ]
  },
  {
   "cell_type": "code",
   "execution_count": 6,
   "metadata": {},
   "outputs": [
    {
     "data": {
      "text/plain": [
       "3.2226816474074784"
      ]
     },
     "execution_count": 6,
     "metadata": {},
     "output_type": "execute_result"
    }
   ],
   "source": [
    "#returns the age of the universe at z=2.5, in units of Gyr.\n",
    "#default Hubble parameter and Omega matter (both at z=0) found at\n",
    "#https://docs.astropy.org/en/stable/cosmology/ ---> link used\n",
    "cosmo = FlatLambdaCDM(H0=70 * u.km / u.s / u.Mpc, Tcmb0=2.725 * u.K, Om0=0.3)\n",
    "cosmo.age(2.0).value #Gyr"
   ]
  },
  {
   "cell_type": "code",
   "execution_count": 7,
   "metadata": {},
   "outputs": [
    {
     "name": "stderr",
     "output_type": "stream",
     "text": [
      "C:\\Users\\debos\\anaconda3\\lib\\site-packages\\ipykernel_launcher.py:13: H5pyDeprecationWarning: The default file mode will change to 'r' (read-only) in h5py 3.0. To suppress this warning, pass the mode you need to h5py.File(), or set the global default h5.get_config().default_file_mode, or set the environment variable H5PY_DEFAULT_READONLY=1. Available modes are: 'r', 'r+', 'w', 'w-'/'x', 'a'. See the docs for details.\n",
      "  del sys.path[0]\n"
     ]
    }
   ],
   "source": [
    "#get stellar formation time for all star particles in subhalo with id = 1\n",
    "\n",
    "import h5py\n",
    "import numpy as np\n",
    "\n",
    "id = 1\n",
    "params = {'stars':'Coordinates,GFM_StellarFormationTime'}# 'GFM_InitialMass'}\n",
    "\n",
    "url = \"http://www.tng-project.org/api/TNG100-1/snapshots/z=\" + str(redshift) + \"/subhalos/\" + str(id)\n",
    "sub = get(url) # get json response of subhalo properties\n",
    "saved_filename = get(url + \"/cutout.hdf5\",params) # get and save HDF5 cutout file\n",
    "    \n",
    "with h5py.File(saved_filename) as f:\n",
    "    dx = f['PartType4']['Coordinates'][:,0] - sub['pos_x']\n",
    "    dy = f['PartType4']['Coordinates'][:,1] - sub['pos_y']\n",
    "    dz = f['PartType4']['Coordinates'][:,2] - sub['pos_z']\n",
    "    starFormationTime = f['PartType4']['GFM_StellarFormationTime'][:]\n",
    "    #starInitialMass = f['PartType4']['GFM_InitialMass'][:]\n",
    "    mode = 'r'\n",
    "    "
   ]
  },
  {
   "cell_type": "code",
   "execution_count": 7,
   "metadata": {},
   "outputs": [
    {
     "name": "stdout",
     "output_type": "stream",
     "text": [
      "[0.2678857  0.26818585 0.26797    0.25805247 0.2581504 ]\n",
      "56139\n",
      "0.33310813\n"
     ]
    }
   ],
   "source": [
    "#testing data before plotting\n",
    "\n",
    "print(starFormationTime[:5])\n",
    "print(len(starFormationTime))\n",
    "print(max(starFormationTime))"
   ]
  },
  {
   "cell_type": "code",
   "execution_count": 8,
   "metadata": {
    "scrolled": false
   },
   "outputs": [
    {
     "name": "stderr",
     "output_type": "stream",
     "text": [
      "C:\\Users\\debos\\anaconda3\\lib\\site-packages\\astropy\\cosmology\\core.py:1170: IntegrationWarning: The occurrence of roundoff error is detected, which prevents \n",
      "  the requested tolerance from being achieved.  The error may be \n",
      "  underestimated.\n",
      "  red, np.inf)[0]\n",
      "C:\\Users\\debos\\anaconda3\\lib\\site-packages\\numpy\\lib\\function_base.py:2167: RuntimeWarning: invalid value encountered in ? (vectorized)\n",
      "  outputs = ufunc(*inputs)\n",
      "C:\\Users\\debos\\anaconda3\\lib\\site-packages\\numpy\\lib\\histograms.py:839: RuntimeWarning: invalid value encountered in greater_equal\n",
      "  keep = (tmp_a >= first_edge)\n",
      "C:\\Users\\debos\\anaconda3\\lib\\site-packages\\numpy\\lib\\histograms.py:840: RuntimeWarning: invalid value encountered in less_equal\n",
      "  keep &= (tmp_a <= last_edge)\n"
     ]
    },
    {
     "data": {
      "text/plain": [
       "Text(0, 0.5, 'N')"
      ]
     },
     "execution_count": 8,
     "metadata": {},
     "output_type": "execute_result"
    },
    {
     "data": {
      "image/png": "[encoded data removed]",
      "text/plain": [
       "<Figure size 432x288 with 1 Axes>"
      ]
     },
     "metadata": {
      "needs_background": "light"
     },
     "output_type": "display_data"
    }
   ],
   "source": [
    "#convert timescale from formation scalefactor units to redshift\n",
    "Z_starFormationTime = 1/starFormationTime -1\n",
    "Gyr_starFormationTime = cosmo.age(Z_starFormationTime).value\n",
    "\n",
    "plt.figure()\n",
    "plt.title('Histogram for Stellar Formation Time')\n",
    "#plt.xlim(0,max(starFormationTime)+0.01) \n",
    "#set 0 as lower xlim to exclude wind phase gas cell(s) --> negative values\n",
    "plt.hist(Gyr_starFormationTime, bins=150, histtype=\"step\")\n",
    "plt.xlabel(\"Stellar Formation Time (Gyr)\")\n",
    "plt.ylabel(\"N\")\n",
    "#how many bins should be good?"
   ]
  },
  {
   "cell_type": "code",
   "execution_count": 9,
   "metadata": {},
   "outputs": [
    {
     "name": "stderr",
     "output_type": "stream",
     "text": [
      "C:\\Users\\debos\\anaconda3\\lib\\site-packages\\ipykernel_launcher.py:10: H5pyDeprecationWarning: The default file mode will change to 'r' (read-only) in h5py 3.0. To suppress this warning, pass the mode you need to h5py.File(), or set the global default h5.get_config().default_file_mode, or set the environment variable H5PY_DEFAULT_READONLY=1. Available modes are: 'r', 'r+', 'w', 'w-'/'x', 'a'. See the docs for details.\n",
      "  # Remove the CWD from sys.path while we load stuff.\n"
     ]
    }
   ],
   "source": [
    "#get stellar initial masses\n",
    "\n",
    "id = 1\n",
    "params = {'stars':'Coordinates,GFM_InitialMass'}\n",
    "\n",
    "url = \"http://www.tng-project.org/api/TNG100-1/snapshots/z=\" + str(redshift) + \"/subhalos/\" + str(id)\n",
    "sub = get(url) # get json response of subhalo properties\n",
    "saved_filename = get(url + \"/cutout.hdf5\",params) # get and save HDF5 cutout file\n",
    "\n",
    "with h5py.File(saved_filename) as f:\n",
    "    dx = f['PartType4']['Coordinates'][:,0] - sub['pos_x']\n",
    "    dy = f['PartType4']['Coordinates'][:,1] - sub['pos_y']\n",
    "    dz = f['PartType4']['Coordinates'][:,2] - sub['pos_z']\n",
    "    #starFormationTime = f['PartType4']['GFM_StellarFormationTime'][:]\n",
    "    starInitialMass = f['PartType4']['GFM_InitialMass'][:]\n",
    "    mode = 'r'\n"
   ]
  },
  {
   "cell_type": "code",
   "execution_count": 10,
   "metadata": {},
   "outputs": [
    {
     "name": "stdout",
     "output_type": "stream",
     "text": [
      "[9.63642306e-05 8.85811969e-05 1.04185856e-04 4.98385562e-05\n",
      " 7.51211919e-05]\n",
      "56139\n",
      "0.00018878699\n"
     ]
    }
   ],
   "source": [
    "#testing initial mass data before plotting\n",
    "\n",
    "print(starInitialMass[:5])\n",
    "print(len(starInitialMass))\n",
    "print(max(starInitialMass))"
   ]
  },
  {
   "cell_type": "code",
   "execution_count": 11,
   "metadata": {},
   "outputs": [
    {
     "name": "stderr",
     "output_type": "stream",
     "text": [
      "C:\\Users\\debos\\anaconda3\\lib\\site-packages\\numpy\\lib\\histograms.py:839: RuntimeWarning: invalid value encountered in greater_equal\n",
      "  keep = (tmp_a >= first_edge)\n",
      "C:\\Users\\debos\\anaconda3\\lib\\site-packages\\numpy\\lib\\histograms.py:840: RuntimeWarning: invalid value encountered in less_equal\n",
      "  keep &= (tmp_a <= last_edge)\n"
     ]
    },
    {
     "data": {
      "text/plain": [
       "Text(0, 0.5, 'N')"
      ]
     },
     "execution_count": 11,
     "metadata": {},
     "output_type": "execute_result"
    },
    {
     "data": {
      "image/png": "[encoded data removed]",
      "text/plain": [
       "<Figure size 432x288 with 1 Axes>"
      ]
     },
     "metadata": {
      "needs_background": "light"
     },
     "output_type": "display_data"
    }
   ],
   "source": [
    "#convert GFM_InitialMass data from $M_\\odot/h$ to $M_\\odot$ units\n",
    "\n",
    "M_Odot_starInitialMass = starInitialMass * h\n",
    "\n",
    "#weighing ??? what is the procedure ?\n",
    "#divide/multiply M_Odot_starInitialMass & Gyr_starFormationTime\n",
    "\n",
    "#make histogram of formation time weighted by the initial mass\n",
    "\n",
    "plt.figure()\n",
    "plt.title('Histogram for Stellar Initial Mass Weighted Stellar Formation Times')\n",
    "#plt.xlim(0,max(starFormationTime)+0.01) \n",
    "#set 0 as lower xlim to exclude wind phase gas cell(s) --> negative values\n",
    "plt.hist(Gyr_starFormationTime, bins=150, weights=M_Odot_starInitialMass, histtype=\"step\")\n",
    "plt.xlabel(\"Weighted Stellar Formation Time (Gyr)\")\n",
    "plt.ylabel(\"N\")\n",
    "#how many bins should be good?\n"
   ]
  },
  {
   "cell_type": "code",
   "execution_count": null,
   "metadata": {},
   "outputs": [],
   "source": []
  }
 ],
 "metadata": {
  "kernelspec": {
   "display_name": "Python 3",
   "language": "python",
   "name": "python3"
  },
  "language_info": {
   "codemirror_mode": {
    "name": "ipython",
    "version": 3
   },
   "file_extension": ".py",
   "mimetype": "text/x-python",
   "name": "python",
   "nbconvert_exporter": "python",
   "pygments_lexer": "ipython3",
   "version": "3.7.6"
  }
 },
 "nbformat": 4,
 "nbformat_minor": 4
}
